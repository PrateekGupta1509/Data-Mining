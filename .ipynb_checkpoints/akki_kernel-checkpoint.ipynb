{
 "cells": [
  {
   "cell_type": "code",
   "execution_count": 251,
   "metadata": {},
   "outputs": [],
   "source": [
    "import operator\n",
    "import numpy as np\n",
    "import pandas as pd\n",
    "import sklearn\n",
    "\n",
    "# preprocess\n",
    "from sklearn.preprocessing import MinMaxScaler\n",
    "from sklearn.decomposition import PCA\n",
    "from sklearn.feature_selection import f_classif, SelectKBest\n",
    "\n",
    "# for classifiers\n",
    "from sklearn import model_selection\n",
    "from sklearn.discriminant_analysis import QuadraticDiscriminantAnalysis as QDA\n",
    "from sklearn.linear_model import LinearRegression, LogisticRegression\n",
    "from sklearn.naive_bayes import GaussianNB\n",
    "from sklearn.neighbors import KNeighborsRegressor, KNeighborsClassifier\n",
    "from sklearn import svm\n",
    "from sklearn.ensemble import RandomForestClassifier, VotingClassifier\n",
    "from sklearn import tree\n",
    "from sklearn.tree import DecisionTreeClassifier\n",
    "from sklearn.metrics import confusion_matrix, make_scorer, accuracy_score, precision_score, recall_score, f1_score \n",
    "# for cross_validate\n",
    "from sklearn.cross_validation import train_test_split,cross_val_score, cross_val_predict\n",
    "from sklearn.metrics import accuracy_score\n",
    "\n",
    "# Ignore Warning\n",
    "import warnings\n",
    "warnings.filterwarnings('ignore')\n",
    "\n",
    "# Inline plots\n",
    "#%matplotlib inline"
   ]
  },
  {
   "cell_type": "code",
   "execution_count": 250,
   "metadata": {
    "collapsed": true
   },
   "outputs": [],
   "source": [
    "def chooseDataset(name):\n",
    "    dataPath = 'Datasets/'\n",
    "    if name == 'diabetes':\n",
    "        colNames= ['pregnant', 'glucose', 'bp', 'skin', 'insulin', 'bmi', 'pedigree', 'age', 'label']\n",
    "        df = pd.read_csv(dataPath + 'PIMA_Indiana_diabetes/pima-indians-diabetes.data.csv', names = colNames)\n",
    "        missCol = ['glucose','bp','skin','insulin','bmi']\n",
    "        for col in missCol:\n",
    "            df[col].replace([0,0.0], np.nan, inplace = True)\n",
    "                   \n",
    "#       convert 0 as missing values\n",
    "    elif name == 'breastCancer':\n",
    "        colNames = ['sampleCodeNumber', 'clumpThickness', 'uniformityCellSize', 'uniformityCellShape', 'marginalAdhesion', 'singleEpithelialCellSize', 'bareNuclei', 'blandChromatin', 'normalNucleoli', 'mitoses', 'label']\n",
    "        df = pd.read_csv(dataPath + 'BreastCancer/breast-cancer-wisconsin.data.txt', names = colNames)\n",
    "        df.replace(\"?\", np.nan, inplace= True)\n",
    "        df['bareNuclei'] = pd.to_numeric(df['bareNuclei'])\n",
    "        # making class labels as 0 (Benign) and 1 (Malignant)\n",
    "        df['label'] = df['label'].replace(2, 0)\n",
    "        df['label'] = df['label'].replace(4, 1)\n",
    "        missCol = ['bareNuclei']\n",
    "        k_knn = 7\n",
    "#         print pd.unique(df[missCol].values.ravel('K'))\n",
    "    elif name == 'parkinsons':\n",
    "        colNames= ['name','MDVP:Fo','MDVP:Fhi','MDVP:Flo','MDVP:Jitter(%)','MDVP:Jitter(Abs)','MDVP:RAP','MDVP:PPQ','Jitter:DDP','MDVP:Shimmer','MDVP:Shimmer(dB)','Shimmer:APQ3','Shimmer:APQ5','MDVP:APQ','Shimmer:DDA','NHR','HNR','label','RPDE','DFA','spread1','spread2','D2','PPE']\n",
    "        df=pd.read_csv(dataPath+'Parkinsons/parkinsons.data.txt',names=colNames)\n",
    "        missCol=[]\n",
    "        #no missing values\n",
    "        \n",
    "    elif name == 'BUPA':\n",
    "        #not given which one is infected\n",
    "        colNames = ['mcv', 'alkphos', 'sgpt','sgot','gammagt','drinks','label']\n",
    "        df = pd.read_csv(dataPath + 'BUPA(Liver)/bupa.data.txt',names = colNames )\n",
    "        df.drop_duplicates(subset=None, keep='first', inplace=True)\n",
    "        df['Class'] = df['Class'].replace(1, 0)\n",
    "        df['Class'] = df['Class'].replace(2, 1)\n",
    "        missCol=[]\n",
    "        \n",
    "    elif name == 'Cleveland':\n",
    "        colNames= ['age','sex','cp','trestbps','chol','fbs','restecg'  ,'thalach', 'exang', 'oldpeak','slope','ca', 'thal','label']\n",
    "        df = pd.read_csv(dataPath + 'Cleveland(Heart)/processed.cleveland.data.txt',names = colNames)\n",
    "        df.replace (\"-9.0\",np.nan,inplace=True)\n",
    "        missCol = df.columns[df.isna().any()].tolist()\n",
    "        \n",
    "    elif name == 'Hepatitis':\n",
    "        colNames =['label','AGE','SEX','STEROID','ANTIVIRALS','FATIGUE','MALAISE','ANOREXIA','LIVER BIG','LIVER FIRM','SPLEEN PALPABLE','SPIDERS','ASCITES','VARICES','BILIRUBIN','ALK PHOSPHATE','SGOT','ALBUMIN','PROTIME','HISTOLOGY']\n",
    "        df = pd.read_csv(dataPath + 'Hepatitis/hepatitis.data.txt',names= colNames)\n",
    "        df.replace(\"?\",np.nan,inplace=True)\n",
    "        missCol= df.columns[df.isna().any()].tolist()\n",
    "        \n",
    "    elif name == 'ILPD':\n",
    "        colNames =['Age','Gender','TB','DB','Alkphos','SGPT','SGOT','TP','ALB','A/G','label']\n",
    "        df = pd.read_csv(dataPath + 'ILPD(Liver)/ILPD.csv',names= colNames)\n",
    "        df['Gender'] = df['Gender'].replace('Male', 0)\n",
    "        df['Gender'] = df['Gender'].replace('Female', 1)\n",
    "        missCol=['A/G']\n",
    "        k_knn = 0\n",
    "    else:\n",
    "        print (\"NOT FOUND\")\n",
    "        return\n",
    "    return df, missCol, k_knn\n",
    "        "
   ]
  },
  {
   "cell_type": "code",
   "execution_count": 81,
   "metadata": {},
   "outputs": [
    {
     "name": "stdout",
     "output_type": "stream",
     "text": [
      "Index(['sampleCodeNumber', 'clumpThickness', 'uniformityCellSize',\n",
      "       'uniformityCellShape', 'marginalAdhesion', 'singleEpithelialCellSize',\n",
      "       'bareNuclei', 'blandChromatin', 'normalNucleoli', 'mitoses', 'label'],\n",
      "      dtype='object') sampleCodeNumber              int64\n",
      "clumpThickness                int64\n",
      "uniformityCellSize            int64\n",
      "uniformityCellShape           int64\n",
      "marginalAdhesion              int64\n",
      "singleEpithelialCellSize      int64\n",
      "bareNuclei                  float64\n",
      "blandChromatin                int64\n",
      "normalNucleoli                int64\n",
      "mitoses                       int64\n",
      "label                         int64\n",
      "dtype: object (699, 11)\n",
      "   sampleCodeNumber  clumpThickness  uniformityCellSize  uniformityCellShape  \\\n",
      "0           1000025               5                   1                    1   \n",
      "1           1002945               5                   4                    4   \n",
      "2           1015425               3                   1                    1   \n",
      "3           1016277               6                   8                    8   \n",
      "4           1017023               4                   1                    1   \n",
      "\n",
      "   marginalAdhesion  singleEpithelialCellSize  bareNuclei  blandChromatin  \\\n",
      "0                 1                         2         1.0               3   \n",
      "1                 5                         7        10.0               3   \n",
      "2                 1                         2         2.0               3   \n",
      "3                 1                         3         4.0               3   \n",
      "4                 3                         2         1.0               3   \n",
      "\n",
      "   normalNucleoli  mitoses  label  \n",
      "0               1        1      0  \n",
      "1               2        1      0  \n",
      "2               1        1      0  \n",
      "3               7        1      0  \n",
      "4               1        1      0  \n"
     ]
    }
   ],
   "source": [
    "df, missCol, k_knn = chooseDataset('breastCancer')\n",
    "print (df.columns, df.dtypes, df.shape)\n",
    "print (df.head())\n",
    "# print df.loc[np.isnan(df['A/G'])]"
   ]
  },
  {
   "cell_type": "code",
   "execution_count": 82,
   "metadata": {
    "collapsed": true
   },
   "outputs": [],
   "source": [
    "# normalizing data\n",
    "def normalizeData(df):\n",
    "    scaler = MinMaxScaler(feature_range=(0, 1))\n",
    "    for i in df.columns:\n",
    "        null_index = df[i].isnull()\n",
    "        df.loc[~null_index, [i]] = scaler.fit_transform(df.loc[~null_index, [i]])\n",
    "    return df"
   ]
  },
  {
   "cell_type": "code",
   "execution_count": 83,
   "metadata": {},
   "outputs": [
    {
     "name": "stdout",
     "output_type": "stream",
     "text": [
      "   sampleCodeNumber  clumpThickness  uniformityCellSize  uniformityCellShape  \\\n",
      "0          0.070067        0.444444            0.000000             0.000000   \n",
      "1          0.070285        0.444444            0.333333             0.333333   \n",
      "2          0.071217        0.222222            0.000000             0.000000   \n",
      "3          0.071281        0.555556            0.777778             0.777778   \n",
      "4          0.071336        0.333333            0.000000             0.000000   \n",
      "\n",
      "   marginalAdhesion  singleEpithelialCellSize  bareNuclei  blandChromatin  \\\n",
      "0          0.000000                  0.111111    0.000000        0.222222   \n",
      "1          0.444444                  0.666667    1.000000        0.222222   \n",
      "2          0.000000                  0.111111    0.111111        0.222222   \n",
      "3          0.000000                  0.222222    0.333333        0.222222   \n",
      "4          0.222222                  0.111111    0.000000        0.222222   \n",
      "\n",
      "   normalNucleoli  mitoses  label  \n",
      "0        0.000000      0.0      0  \n",
      "1        0.111111      0.0      0  \n",
      "2        0.000000      0.0      0  \n",
      "3        0.666667      0.0      0  \n",
      "4        0.000000      0.0      0  \n"
     ]
    }
   ],
   "source": [
    "df = normalizeData(df)\n",
    "print (df.head())\n",
    "\n",
    "# print pd.unique(df[missCol].values.ravel('K'))"
   ]
  },
  {
   "cell_type": "code",
   "execution_count": 84,
   "metadata": {
    "collapsed": true
   },
   "outputs": [],
   "source": [
    "def computeMissing(df,missCol, k = 5):\n",
    "    # get No Missing Data Rows \n",
    "#     print pd.unique(df[missCol].values.ravel('K'))\n",
    "    if missCol == []:\n",
    "        return df\n",
    "    no_missing_df = df.dropna(axis=0, how='any')\n",
    "#     print(no_missing_df.shape, df.shape)\n",
    "#     print no_missing_df.head()\n",
    "    # get Missing Data Rows \n",
    "    missing_df = pd.DataFrame(df[~df.isin(no_missing_df).all(1)])\n",
    "#     print missing_df.head()\n",
    "    # removed last column\n",
    "    data = no_missing_df.drop(['label'], axis = 1, inplace = False)\n",
    "    # Create the knn model.\n",
    "    y_columns = missCol\n",
    "    x_columns = data.columns.tolist()\n",
    "#     print y_columns\n",
    "    for col in y_columns:\n",
    "        x_columns.remove(col)\n",
    "        \n",
    "    # Look at the five closest neighbors.\n",
    "    knn = KNeighborsRegressor(n_neighbors=k)\n",
    "    # Fit the model on the training data.\n",
    "    knn.fit(no_missing_df[x_columns], no_missing_df[y_columns])\n",
    "    # Make point predictions on the test set using the fit model.\n",
    "    predictions = knn.predict(missing_df[x_columns])\n",
    "    missing_df[y_columns] = predictions\n",
    "    no_missing_df = no_missing_df.append(missing_df)\n",
    "    return no_missing_df"
   ]
  },
  {
   "cell_type": "code",
   "execution_count": 85,
   "metadata": {
    "collapsed": true
   },
   "outputs": [],
   "source": [
    "df = computeMissing(df, missCol)"
   ]
  },
  {
   "cell_type": "code",
   "execution_count": 86,
   "metadata": {},
   "outputs": [
    {
     "name": "stdout",
     "output_type": "stream",
     "text": [
      "(699, 11)\n",
      "   sampleCodeNumber  clumpThickness  uniformityCellSize  uniformityCellShape  \\\n",
      "0          0.070067        0.444444            0.000000             0.000000   \n",
      "1          0.070285        0.444444            0.333333             0.333333   \n",
      "2          0.071217        0.222222            0.000000             0.000000   \n",
      "3          0.071281        0.555556            0.777778             0.777778   \n",
      "4          0.071336        0.333333            0.000000             0.000000   \n",
      "\n",
      "   marginalAdhesion  singleEpithelialCellSize  bareNuclei  blandChromatin  \\\n",
      "0          0.000000                  0.111111    0.000000        0.222222   \n",
      "1          0.444444                  0.666667    1.000000        0.222222   \n",
      "2          0.000000                  0.111111    0.111111        0.222222   \n",
      "3          0.000000                  0.222222    0.333333        0.222222   \n",
      "4          0.222222                  0.111111    0.000000        0.222222   \n",
      "\n",
      "   normalNucleoli  mitoses  label  \n",
      "0        0.000000      0.0      0  \n",
      "1        0.111111      0.0      0  \n",
      "2        0.000000      0.0      0  \n",
      "3        0.666667      0.0      0  \n",
      "4        0.000000      0.0      0  \n"
     ]
    }
   ],
   "source": [
    "print (df.shape)\n",
    "print (df.head())"
   ]
  },
  {
   "cell_type": "code",
   "execution_count": 87,
   "metadata": {
    "collapsed": true
   },
   "outputs": [],
   "source": [
    "def removeOutliers(df):\n",
    "    maskall = {}\n",
    "    Q1 = df.quantile(0.25)\n",
    "    Q3 = df.quantile(0.75)\n",
    "    \n",
    "    for col in df.columns[:-1]:\n",
    "        IQR = Q3[col] - Q1[col]\n",
    "        mask = df[col].between(Q1[col] - 1.5*IQR, Q3[col] + 1.5*IQR, inclusive=True)\n",
    "        maskall[col] =mask\n",
    "        df = df[mask]\n",
    "#         print df.shape\n",
    "    return df"
   ]
  },
  {
   "cell_type": "code",
   "execution_count": 88,
   "metadata": {},
   "outputs": [
    {
     "name": "stdout",
     "output_type": "stream",
     "text": [
      "(491, 11)\n"
     ]
    }
   ],
   "source": [
    "df2 = removeOutliers(df)\n",
    "print (df2.shape)"
   ]
  },
  {
   "cell_type": "code",
   "execution_count": 89,
   "metadata": {
    "collapsed": true
   },
   "outputs": [],
   "source": [
    "label = df['label']\n",
    "df.drop('label', axis=1, inplace=True)"
   ]
  },
  {
   "cell_type": "code",
   "execution_count": 90,
   "metadata": {},
   "outputs": [
    {
     "name": "stdout",
     "output_type": "stream",
     "text": [
      "     sampleCodeNumber  clumpThickness  uniformityCellSize  \\\n",
      "0            0.070067        0.444444            0.000000   \n",
      "1            0.070285        0.444444            0.333333   \n",
      "2            0.071217        0.222222            0.000000   \n",
      "3            0.071281        0.555556            0.777778   \n",
      "4            0.071336        0.333333            0.000000   \n",
      "5            0.071344        0.777778            1.000000   \n",
      "6            0.071417        0.000000            0.000000   \n",
      "7            0.071451        0.111111            0.000000   \n",
      "8            0.072535        0.111111            0.000000   \n",
      "9            0.072535        0.333333            0.111111   \n",
      "10           0.072700        0.000000            0.000000   \n",
      "11           0.072766        0.111111            0.000000   \n",
      "12           0.073187        0.444444            0.222222   \n",
      "13           0.073351        0.000000            0.000000   \n",
      "14           0.073393        0.777778            0.666667   \n",
      "15           0.073622        0.666667            0.333333   \n",
      "16           0.073700        0.333333            0.000000   \n",
      "17           0.073785        0.333333            0.000000   \n",
      "18           0.073849        1.000000            0.666667   \n",
      "19           0.073852        0.555556            0.000000   \n",
      "20           0.074141        0.666667            0.222222   \n",
      "21           0.074142        1.000000            0.444444   \n",
      "22           0.074305        0.222222            0.000000   \n",
      "24           0.074512        0.000000            0.000000   \n",
      "25           0.074973        0.444444            0.111111   \n",
      "26           0.075021        0.222222            0.111111   \n",
      "27           0.075067        0.444444            0.000000   \n",
      "28           0.075101        0.111111            0.000000   \n",
      "29           0.075362        0.000000            0.000000   \n",
      "30           0.075362        0.222222            0.000000   \n",
      "..                ...             ...                 ...   \n",
      "685          0.035312        0.000000            0.000000   \n",
      "686          0.035473        0.000000            0.000000   \n",
      "687          0.037686        0.222222            0.000000   \n",
      "688          0.040433        0.333333            0.000000   \n",
      "689          0.044271        0.000000            0.000000   \n",
      "690          0.044271        0.000000            0.000000   \n",
      "691          0.047299        0.444444            1.000000   \n",
      "692          0.048713        0.222222            0.000000   \n",
      "693          0.052387        0.222222            0.000000   \n",
      "694          0.053393        0.222222            0.000000   \n",
      "695          0.058251        0.111111            0.000000   \n",
      "696          0.061764        0.444444            1.000000   \n",
      "697          0.062410        0.333333            0.777778   \n",
      "698          0.062410        0.333333            0.777778   \n",
      "23           0.074322        0.777778            0.333333   \n",
      "40           0.077293        0.555556            0.555556   \n",
      "139          0.083748        0.000000            0.000000   \n",
      "145          0.083867        0.000000            0.000000   \n",
      "158          0.084527        0.000000            0.000000   \n",
      "164          0.084813        0.444444            0.000000   \n",
      "235          0.088078        0.222222            0.000000   \n",
      "249          0.008043        0.222222            0.000000   \n",
      "275          0.027715        0.222222            0.000000   \n",
      "292          0.037484        0.777778            0.777778   \n",
      "294          0.040657        0.000000            0.000000   \n",
      "297          0.000000        0.444444            0.333333   \n",
      "315          0.047976        0.333333            0.555556   \n",
      "321          0.050177        0.222222            0.000000   \n",
      "411          0.087871        0.000000            0.000000   \n",
      "617          0.074326        0.000000            0.000000   \n",
      "\n",
      "     uniformityCellShape  marginalAdhesion  singleEpithelialCellSize  \\\n",
      "0               0.000000          0.000000                  0.111111   \n",
      "1               0.333333          0.444444                  0.666667   \n",
      "2               0.000000          0.000000                  0.111111   \n",
      "3               0.777778          0.000000                  0.222222   \n",
      "4               0.000000          0.222222                  0.111111   \n",
      "5               1.000000          0.777778                  0.666667   \n",
      "6               0.000000          0.000000                  0.111111   \n",
      "7               0.111111          0.000000                  0.111111   \n",
      "8               0.000000          0.000000                  0.111111   \n",
      "9               0.000000          0.000000                  0.111111   \n",
      "10              0.000000          0.000000                  0.000000   \n",
      "11              0.000000          0.000000                  0.111111   \n",
      "12              0.222222          0.222222                  0.111111   \n",
      "13              0.000000          0.000000                  0.111111   \n",
      "14              0.444444          1.000000                  0.666667   \n",
      "15              0.555556          0.333333                  0.555556   \n",
      "16              0.000000          0.000000                  0.111111   \n",
      "17              0.000000          0.000000                  0.111111   \n",
      "18              0.666667          0.555556                  0.333333   \n",
      "19              0.000000          0.000000                  0.111111   \n",
      "20              0.111111          1.000000                  0.444444   \n",
      "21              0.444444          0.222222                  0.555556   \n",
      "22              0.000000          0.000000                  0.111111   \n",
      "24              0.000000          0.000000                  0.111111   \n",
      "25              0.222222          0.333333                  0.111111   \n",
      "26              0.000000          0.000000                  0.000000   \n",
      "27              0.000000          0.000000                  0.111111   \n",
      "28              0.000000          0.000000                  0.111111   \n",
      "29              0.222222          0.000000                  0.111111   \n",
      "30              0.000000          0.000000                  0.000000   \n",
      "..                   ...               ...                       ...   \n",
      "685             0.000000          0.000000                  0.111111   \n",
      "686             0.000000          0.000000                  0.111111   \n",
      "687             0.000000          0.000000                  0.111111   \n",
      "688             0.000000          0.000000                  0.111111   \n",
      "689             0.000000          0.000000                  0.111111   \n",
      "690             0.000000          0.222222                  0.111111   \n",
      "691             1.000000          0.444444                  0.333333   \n",
      "692             0.000000          0.000000                  0.111111   \n",
      "693             0.000000          0.000000                  0.111111   \n",
      "694             0.000000          0.000000                  0.222222   \n",
      "695             0.000000          0.000000                  0.111111   \n",
      "696             1.000000          0.222222                  0.666667   \n",
      "697             0.555556          0.333333                  0.222222   \n",
      "698             0.777778          0.444444                  0.333333   \n",
      "23              0.444444          0.000000                  0.111111   \n",
      "40              0.555556          0.888889                  0.555556   \n",
      "139             0.000000          0.000000                  0.000000   \n",
      "145             0.222222          0.000000                  0.111111   \n",
      "158             0.111111          0.000000                  0.222222   \n",
      "164             0.000000          0.000000                  0.111111   \n",
      "235             0.333333          0.000000                  0.111111   \n",
      "249             0.000000          0.000000                  0.111111   \n",
      "275             0.222222          0.000000                  0.111111   \n",
      "292             0.777778          0.000000                  0.111111   \n",
      "294             0.000000          0.000000                  0.111111   \n",
      "297             0.222222          0.000000                  0.111111   \n",
      "315             0.444444          0.555556                  0.666667   \n",
      "321             0.000000          0.000000                  0.111111   \n",
      "411             0.000000          0.000000                  0.000000   \n",
      "617             0.000000          0.000000                  0.000000   \n",
      "\n",
      "     bareNuclei  blandChromatin  normalNucleoli   mitoses  \n",
      "0      0.000000        0.222222        0.000000  0.000000  \n",
      "1      1.000000        0.222222        0.111111  0.000000  \n",
      "2      0.111111        0.222222        0.000000  0.000000  \n",
      "3      0.333333        0.222222        0.666667  0.000000  \n",
      "4      0.000000        0.222222        0.000000  0.000000  \n",
      "5      1.000000        0.888889        0.666667  0.000000  \n",
      "6      1.000000        0.222222        0.000000  0.000000  \n",
      "7      0.000000        0.222222        0.000000  0.000000  \n",
      "8      0.000000        0.000000        0.000000  0.444444  \n",
      "9      0.000000        0.111111        0.000000  0.000000  \n",
      "10     0.000000        0.222222        0.000000  0.000000  \n",
      "11     0.000000        0.111111        0.000000  0.000000  \n",
      "12     0.222222        0.333333        0.333333  0.000000  \n",
      "13     0.222222        0.222222        0.000000  0.000000  \n",
      "14     0.888889        0.444444        0.444444  0.333333  \n",
      "15     0.000000        0.333333        0.222222  0.000000  \n",
      "16     0.000000        0.111111        0.000000  0.000000  \n",
      "17     0.000000        0.222222        0.000000  0.000000  \n",
      "18     1.000000        0.333333        0.000000  0.111111  \n",
      "19     0.000000        0.222222        0.000000  0.000000  \n",
      "20     1.000000        0.444444        0.333333  0.333333  \n",
      "21     0.666667        0.666667        1.000000  0.000000  \n",
      "22     0.000000        0.111111        0.000000  0.000000  \n",
      "24     0.000000        0.222222        0.000000  0.000000  \n",
      "25     0.666667        0.222222        0.555556  0.000000  \n",
      "26     0.000000        0.111111        0.000000  0.000000  \n",
      "27     0.000000        0.111111        0.000000  0.000000  \n",
      "28     0.000000        0.111111        0.000000  0.000000  \n",
      "29     0.000000        0.000000        0.000000  0.000000  \n",
      "30     0.000000        0.111111        0.000000  0.000000  \n",
      "..          ...             ...             ...       ...  \n",
      "685    0.000000        0.000000        0.000000  0.000000  \n",
      "686    0.000000        0.000000        0.000000  0.000000  \n",
      "687    0.000000        0.111111        0.222222  0.000000  \n",
      "688    0.000000        0.000000        0.000000  0.000000  \n",
      "689    0.000000        0.000000        0.000000  0.777778  \n",
      "690    0.000000        0.000000        0.000000  0.000000  \n",
      "691    0.444444        0.333333        0.333333  0.000000  \n",
      "692    0.000000        0.000000        0.000000  0.000000  \n",
      "693    0.000000        0.111111        0.000000  0.111111  \n",
      "694    0.111111        0.000000        0.000000  0.000000  \n",
      "695    0.000000        0.000000        0.000000  0.000000  \n",
      "696    0.222222        0.777778        1.000000  0.111111  \n",
      "697    0.333333        1.000000        0.555556  0.000000  \n",
      "698    0.444444        1.000000        0.333333  0.000000  \n",
      "23     0.777778        0.666667        0.222222  0.000000  \n",
      "40     0.755556        0.666667        0.777778  0.000000  \n",
      "139    0.000000        0.111111        0.000000  0.000000  \n",
      "145    0.000000        0.111111        0.000000  0.000000  \n",
      "158    0.111111        0.000000        0.000000  0.000000  \n",
      "164    0.000000        0.222222        0.000000  0.000000  \n",
      "235    0.000000        0.222222        0.000000  0.000000  \n",
      "249    0.066667        0.222222        0.000000  0.000000  \n",
      "275    0.000000        0.111111        0.000000  0.000000  \n",
      "292    0.555556        0.555556        1.000000  0.000000  \n",
      "294    0.000000        0.111111        0.000000  0.000000  \n",
      "297    0.088889        0.111111        0.222222  0.000000  \n",
      "315    0.888889        0.333333        0.888889  0.000000  \n",
      "321    0.066667        0.222222        0.000000  0.000000  \n",
      "411    0.000000        0.111111        0.000000  0.000000  \n",
      "617    0.000000        0.000000        0.000000  0.000000  \n",
      "\n",
      "[699 rows x 10 columns] 0      0\n",
      "1      0\n",
      "2      0\n",
      "3      0\n",
      "4      0\n",
      "5      1\n",
      "6      0\n",
      "7      0\n",
      "8      0\n",
      "9      0\n",
      "10     0\n",
      "11     0\n",
      "12     1\n",
      "13     0\n",
      "14     1\n",
      "15     1\n",
      "16     0\n",
      "17     0\n",
      "18     1\n",
      "19     0\n",
      "20     1\n",
      "21     1\n",
      "22     0\n",
      "24     0\n",
      "25     1\n",
      "26     0\n",
      "27     0\n",
      "28     0\n",
      "29     0\n",
      "30     0\n",
      "      ..\n",
      "685    0\n",
      "686    0\n",
      "687    0\n",
      "688    0\n",
      "689    0\n",
      "690    0\n",
      "691    1\n",
      "692    0\n",
      "693    0\n",
      "694    0\n",
      "695    0\n",
      "696    1\n",
      "697    1\n",
      "698    1\n",
      "23     1\n",
      "40     0\n",
      "139    0\n",
      "145    0\n",
      "158    0\n",
      "164    0\n",
      "235    0\n",
      "249    0\n",
      "275    0\n",
      "292    1\n",
      "294    0\n",
      "297    0\n",
      "315    0\n",
      "321    0\n",
      "411    0\n",
      "617    0\n",
      "Name: label, Length: 699, dtype: int64\n"
     ]
    }
   ],
   "source": [
    "X, y = df, label\n",
    "print (X,y)"
   ]
  },
  {
   "cell_type": "code",
   "execution_count": 91,
   "metadata": {},
   "outputs": [
    {
     "name": "stdout",
     "output_type": "stream",
     "text": [
      "1.0\n",
      "1.0\n",
      "1.0\n",
      "1.0\n",
      "1.0\n",
      "1.0\n",
      "1.0\n",
      "1.0\n",
      "1.0\n",
      "1.0\n"
     ]
    }
   ],
   "source": [
    "for col in df.columns:\n",
    "    print (sorted(pd.Series(df[col]).unique())[-1])\n",
    "#     print np.isnan(df[col].any())\n",
    "#     print np.isfinite(df[col].all()) #and gets True"
   ]
  },
  {
   "cell_type": "code",
   "execution_count": 92,
   "metadata": {
    "collapsed": true
   },
   "outputs": [],
   "source": [
    "def PCA_Compute(X,y, n):\n",
    "    pca = PCA(n_components= n, svd_solver='full')\n",
    "    pca.fit(X)\n",
    "    X = pca.transform(X)\n",
    "    print(pca.explained_variance_ratio_)\n",
    "    return X,y"
   ]
  },
  {
   "cell_type": "code",
   "execution_count": 93,
   "metadata": {
    "collapsed": true
   },
   "outputs": [],
   "source": [
    "def Fscore_Compute(X,y, n = 5):\n",
    "    selector = SelectKBest(f_classif, k=n)\n",
    "    selector.fit(X,y)\n",
    "    X = selector.transform(X)\n",
    "    print (selector.scores_, X.shape)\n",
    "    return X,y"
   ]
  },
  {
   "cell_type": "code",
   "execution_count": 94,
   "metadata": {
    "collapsed": true
   },
   "outputs": [],
   "source": [
    "def featureSelection(X,y,k, choice = 0):\n",
    "    if choice == 1:\n",
    "        return Fscore_Compute(X,y,k)\n",
    "    return PCA_Compute(X,y)"
   ]
  },
  {
   "cell_type": "code",
   "execution_count": 174,
   "metadata": {},
   "outputs": [
    {
     "name": "stdout",
     "output_type": "stream",
     "text": [
      "[    4.51505927   733.20697841  1408.52721279  1419.30553012   657.79369959\n",
      "   608.71955539  1417.3134106    933.28729668   717.62804135   152.04023895] (699, 10)\n"
     ]
    }
   ],
   "source": [
    "X,y = featureSelection(X,y,X.shape[1],1)"
   ]
  },
  {
   "cell_type": "code",
   "execution_count": 248,
   "metadata": {
    "collapsed": true
   },
   "outputs": [],
   "source": [
    "# usage: get_results2(y, predictions, scores.std())\n",
    "def get_results2(y_true, y_pred, std):\n",
    "    TN, FP, FN, TP = confusion_matrix(y_true, y_pred).ravel()\n",
    "    # print(TN, FP, FN, TP)\n",
    "    sen = (TP / (TP + FN))*100  \n",
    "    spec = (TN / (TN + FP))*100\n",
    "    acc = ((TP + TN) / (TP + FP + TN + FN))*100\n",
    "    prec = TP / (TP + FP)\n",
    "    recall = TP / (TP + FN) \n",
    "    Fscore = ((2*prec*recall)/(prec+recall))*100\n",
    "    print (\"\\nAccuracy = \" , acc ,\" (+/-\", std, \")\",\"\\nSensitivity = \", sen, \"\\nSpecificity = \", spec , \"\\nF-measure = \" , Fscore)\n",
    "    return"
   ]
  },
  {
   "cell_type": "code",
   "execution_count": null,
   "metadata": {
    "collapsed": true
   },
   "outputs": [],
   "source": [
    "def get_results(results):\n",
    "    print(\"Accuracy: \", results['test_accuracy'].mean()*100)\n",
    "    print(\"Sensitivity (Recall): \", results['test_recall'].mean()*100)\n",
    "    print(\"Precision: \", results['test_precision'].mean()*100)\n",
    "    print(\"F-Measure: \", results['test_f1_score'].mean()*100)"
   ]
  },
  {
   "cell_type": "code",
   "execution_count": 223,
   "metadata": {
    "collapsed": true
   },
   "outputs": [],
   "source": [
    "def getQDA(X,y,k=10):\n",
    "    clf = QDA(priors=None, reg_param=0.0)\n",
    "    clf.fit(X, y)\n",
    "    scores = cross_val_score(clf, X, y, cv=k)\n",
    "    predictions = clf.predict(X)\n",
    "    return scores, predictions"
   ]
  },
  {
   "cell_type": "code",
   "execution_count": 224,
   "metadata": {},
   "outputs": [
    {
     "name": "stdout",
     "output_type": "stream",
     "text": [
      "Mean =  94.7221007203\n",
      "\n",
      "Accuracy =  95.2789699571  (+/- 0.0296256757468 ) \n",
      "Sensitivity =  97.510373444 \n",
      "Specificity =  94.1048034934 \n",
      "F-measure =  93.4393638171\n"
     ]
    }
   ],
   "source": [
    "scores, predictions = getQDA(X,y)\n",
    "print(\"Mean = \" , scores.mean()*100)\n",
    "get_results(results)"
   ]
  },
  {
   "cell_type": "code",
   "execution_count": 225,
   "metadata": {
    "collapsed": true
   },
   "outputs": [],
   "source": [
    "def getLR(X,y,k=10):\n",
    "    regr = LogisticRegressionCV(class_weight='balanced',scoring='roc_auc',n_jobs=10, max_iter=10000, verbose=1,cv=10)\n",
    "    regr.fit(X, y)\n",
    "    scores = cross_val_score(regr, X, y, cv=k)\n",
    "    predictions = regr.predict(X)\n",
    "#     regr.score(X,y)\n",
    "    return scores, predictions\n"
   ]
  },
  {
   "cell_type": "code",
   "execution_count": 226,
   "metadata": {},
   "outputs": [
    {
     "name": "stderr",
     "output_type": "stream",
     "text": [
      "[Parallel(n_jobs=10)]: Done   2 out of  10 | elapsed:    0.2s remaining:    1.0s\n",
      "[Parallel(n_jobs=10)]: Done  10 out of  10 | elapsed:    0.3s finished\n",
      "[Parallel(n_jobs=10)]: Done   2 out of  10 | elapsed:    0.3s remaining:    1.0s\n",
      "[Parallel(n_jobs=10)]: Done  10 out of  10 | elapsed:    0.3s finished\n",
      "[Parallel(n_jobs=10)]: Done   2 out of  10 | elapsed:    0.3s remaining:    1.0s\n",
      "[Parallel(n_jobs=10)]: Done  10 out of  10 | elapsed:    0.3s finished\n",
      "[Parallel(n_jobs=10)]: Done   2 out of  10 | elapsed:    0.2s remaining:    0.8s\n",
      "[Parallel(n_jobs=10)]: Done  10 out of  10 | elapsed:    0.2s finished\n",
      "[Parallel(n_jobs=10)]: Done   2 out of  10 | elapsed:    0.1s remaining:    0.5s\n",
      "[Parallel(n_jobs=10)]: Done  10 out of  10 | elapsed:    0.4s finished\n",
      "[Parallel(n_jobs=10)]: Done   2 out of  10 | elapsed:    0.2s remaining:    0.9s\n",
      "[Parallel(n_jobs=10)]: Done  10 out of  10 | elapsed:    0.3s finished\n",
      "[Parallel(n_jobs=10)]: Done   2 out of  10 | elapsed:    0.1s remaining:    0.4s\n",
      "[Parallel(n_jobs=10)]: Done  10 out of  10 | elapsed:    0.3s finished\n",
      "[Parallel(n_jobs=10)]: Done   2 out of  10 | elapsed:    0.1s remaining:    0.6s\n",
      "[Parallel(n_jobs=10)]: Done  10 out of  10 | elapsed:    0.4s finished\n",
      "[Parallel(n_jobs=10)]: Done   2 out of  10 | elapsed:    0.2s remaining:    0.9s\n",
      "[Parallel(n_jobs=10)]: Done  10 out of  10 | elapsed:    0.2s finished\n",
      "[Parallel(n_jobs=10)]: Done   2 out of  10 | elapsed:    0.2s remaining:    0.9s\n",
      "[Parallel(n_jobs=10)]: Done  10 out of  10 | elapsed:    0.3s finished\n"
     ]
    },
    {
     "name": "stdout",
     "output_type": "stream",
     "text": [
      "Mean =  95.8589799668\n",
      "\n",
      "Accuracy =  97.2818311874  (+/- 0.0288107893611 ) \n",
      "Sensitivity =  97.0954356846 \n",
      "Specificity =  97.3799126638 \n",
      "F-measure =  96.0985626283\n"
     ]
    },
    {
     "name": "stderr",
     "output_type": "stream",
     "text": [
      "[Parallel(n_jobs=10)]: Done   2 out of  10 | elapsed:    0.2s remaining:    0.8s\n",
      "[Parallel(n_jobs=10)]: Done  10 out of  10 | elapsed:    0.3s finished\n"
     ]
    }
   ],
   "source": [
    "# help(KFold)\n",
    "scores, predictions = getLR(X,y)\n",
    "print(\"Mean = \" , scores.mean()*100)\n",
    "get_results(results)"
   ]
  },
  {
   "cell_type": "code",
   "execution_count": 227,
   "metadata": {
    "collapsed": true
   },
   "outputs": [],
   "source": [
    "def getSVM(X,y,k=10):\n",
    "    svc = svm.SVC(C=1, kernel='linear')\n",
    "    svc.fit(X, y)\n",
    "    scores = cross_val_score(svc, X, y, cv=k, scoring='precision_macro')\n",
    "    predictions = svc.predict(X)\n",
    "    return scores, predictions"
   ]
  },
  {
   "cell_type": "code",
   "execution_count": 228,
   "metadata": {},
   "outputs": [
    {
     "name": "stdout",
     "output_type": "stream",
     "text": [
      "Mean =  94.7221007203\n",
      "\n",
      "Accuracy =  95.2789699571  (+/- 0.0296256757468 ) \n",
      "Sensitivity =  97.510373444 \n",
      "Specificity =  94.1048034934 \n",
      "F-measure =  93.4393638171\n"
     ]
    }
   ],
   "source": [
    "scores, predictions = getQDA(X,y)\n",
    "print(\"Mean = \" , scores.mean()*100)\n",
    "get_results(results)"
   ]
  },
  {
   "cell_type": "code",
   "execution_count": 229,
   "metadata": {
    "collapsed": true
   },
   "outputs": [],
   "source": [
    "def getKNN(X,y,k_knn,k=10):\n",
    "    knn = KNeighborsClassifier(n_neighbors = k_knn, algorithm = 'ball_tree', leaf_size=500)\n",
    "    knn.fit(X, y)\n",
    "    scores = cross_val_score(knn, X, y, cv=k, scoring='precision_macro')\n",
    "    predictions = knn.predict(X)\n",
    "    return scores, predictions"
   ]
  },
  {
   "cell_type": "code",
   "execution_count": 103,
   "metadata": {
    "collapsed": true
   },
   "outputs": [],
   "source": [
    "# kr = range(1,40)\n",
    "# ac = []\n",
    "# for k in kr:\n",
    "#     ac.append(getKNN(X,y,k))\n",
    "# import matplotlib.pyplot as plt\n",
    "# plt.figure()\n",
    "# plt.plot(kr,ac)\n",
    "# plt.show()"
   ]
  },
  {
   "cell_type": "code",
   "execution_count": 230,
   "metadata": {},
   "outputs": [
    {
     "name": "stdout",
     "output_type": "stream",
     "text": [
      "Mean =  96.5000660709\n",
      "\n",
      "Accuracy =  97.7110157368  (+/- 0.025214088159 ) \n",
      "Sensitivity =  97.510373444 \n",
      "Specificity =  97.8165938865 \n",
      "F-measure =  96.70781893\n"
     ]
    }
   ],
   "source": [
    "scores, predictions = getKNN(X,y,7)\n",
    "print(\"Mean = \" , scores.mean()*100)\n",
    "get_results(results)"
   ]
  },
  {
   "cell_type": "code",
   "execution_count": 231,
   "metadata": {
    "collapsed": true
   },
   "outputs": [],
   "source": [
    "def getNaivebayes(X,y,k=10):    \n",
    "    clf = GaussianNB()\n",
    "    clf.fit(X, y)\n",
    "    scores = cross_val_score(clf, X, y, cv=k)\n",
    "    predictions = clf.predict(X)\n",
    "    return scores, predictions"
   ]
  },
  {
   "cell_type": "code",
   "execution_count": 232,
   "metadata": {},
   "outputs": [
    {
     "name": "stdout",
     "output_type": "stream",
     "text": [
      "Mean =  95.8609337183\n",
      "\n",
      "Accuracy =  95.9942775393  (+/- 0.0213516958891 ) \n",
      "Sensitivity =  97.510373444 \n",
      "Specificity =  95.1965065502 \n",
      "F-measure =  94.3775100402\n"
     ]
    }
   ],
   "source": [
    "scores, predictions = getNaivebayes(X,y)\n",
    "print(\"Mean = \" , scores.mean()*100)\n",
    "get_results(results)"
   ]
  },
  {
   "cell_type": "code",
   "execution_count": 234,
   "metadata": {
    "collapsed": true
   },
   "outputs": [],
   "source": [
    "def getDecisionTree_infogain(X,y,k=10):\n",
    "    clf = DecisionTreeClassifier(class_weight=None, criterion='entropy', random_state=100, splitter='best')\n",
    "    clf.fit(X, y)\n",
    "    scores = cross_val_score(clf, X, y, cv=k)\n",
    "    predictions = clf.predict(X)\n",
    "    return scores, predictions"
   ]
  },
  {
   "cell_type": "code",
   "execution_count": 237,
   "metadata": {},
   "outputs": [
    {
     "name": "stdout",
     "output_type": "stream",
     "text": [
      "Mean =  92.4321290059\n",
      "\n",
      "Accuracy =  100.0  (+/- 0.0333685342286 ) \n",
      "Sensitivity =  100.0 \n",
      "Specificity =  100.0 \n",
      "F-measure =  100.0\n"
     ]
    }
   ],
   "source": [
    "scores, predictions = getDecisionTree_infogain(X,y)\n",
    "print(\"Mean = \" , scores.mean()*100)\n",
    "get_results(results)"
   ]
  },
  {
   "cell_type": "code",
   "execution_count": 238,
   "metadata": {
    "collapsed": true
   },
   "outputs": [],
   "source": [
    "def getDecisionTree_gini(X,y,k=10):\n",
    "    #X_train, X_test, Y_train, Y_test = train_test_split(X, y, test_size=0.25, random_state=42)\n",
    "    clf = DecisionTreeClassifier(class_weight=None, criterion='gini',random_state=100, splitter='best')\n",
    "    clf.fit(X, y)\n",
    "    scores = cross_val_score(clf, X, y, cv=5)\n",
    "    predictions = clf.predict(X)\n",
    "    return scores, predictions"
   ]
  },
  {
   "cell_type": "code",
   "execution_count": 239,
   "metadata": {},
   "outputs": [
    {
     "name": "stdout",
     "output_type": "stream",
     "text": [
      "Mean =  91.5640302348\n",
      "\n",
      "Accuracy =  100.0  (+/- 0.0222636978003 ) \n",
      "Sensitivity =  100.0 \n",
      "Specificity =  100.0 \n",
      "F-measure =  100.0\n"
     ]
    }
   ],
   "source": [
    "scores, predictions = getDecisionTree_gini(X,y)\n",
    "print(\"Mean = \" , scores.mean()*100)\n",
    "get_results(results)"
   ]
  },
  {
   "cell_type": "code",
   "execution_count": 242,
   "metadata": {
    "collapsed": true
   },
   "outputs": [],
   "source": [
    "def getRandomForest(X,y, numtrees =10,k=10):\n",
    "    from sklearn.ensemble import RandomForestClassifier\n",
    "    clf = RandomForestClassifier(n_estimators=10)\n",
    "    clf.fit(X, y)\n",
    "    scores = cross_val_score(clf, X, y, cv=10)\n",
    "    predictions = clf.predict(X)\n",
    "    return scores, predictions"
   ]
  },
  {
   "cell_type": "code",
   "execution_count": 243,
   "metadata": {},
   "outputs": [
    {
     "name": "stdout",
     "output_type": "stream",
     "text": [
      "Mean =  96.1467063249\n",
      "\n",
      "Accuracy =  99.7138769671  (+/- 0.0237727928005 ) \n",
      "Sensitivity =  100.0 \n",
      "Specificity =  99.5633187773 \n",
      "F-measure =  99.5867768595\n"
     ]
    }
   ],
   "source": [
    "scores, predictions = getRandomForest(X,y)\n",
    "print(\"Mean = \" , scores.mean()*100)\n",
    "get_results(results)"
   ]
  },
  {
   "cell_type": "code",
   "execution_count": 113,
   "metadata": {
    "collapsed": true
   },
   "outputs": [],
   "source": [
    "def getAdaBoost(X,y, estimators=100):\n",
    "    from sklearn.ensemble import AdaBoostClassifier\n",
    "    clf = AdaBoostClassifier(n_estimators=estimators)\n",
    "    scores = cross_val_score(clf, X, y, cv=5)\n",
    "    return scores.mean()"
   ]
  },
  {
   "cell_type": "code",
   "execution_count": 114,
   "metadata": {
    "collapsed": true
   },
   "outputs": [],
   "source": [
    "from sklearn.neighbors import KNeighborsClassifier\n",
    "def getBaggingClassifier(X,y, poorclf=KNeighborsClassifier()):\n",
    "    from sklearn.ensemble import BaggingClassifier\n",
    "    bagging = BaggingClassifier(poorclf,max_samples=0.5, max_features=0.5)\n",
    "    scores = cross_val_score(bagging, X, y, cv=5)\n",
    "    return scores.mean()"
   ]
  },
  {
   "cell_type": "code",
   "execution_count": 124,
   "metadata": {
    "collapsed": true
   },
   "outputs": [],
   "source": [
    "def HMV_Layer1():\n",
    "    clf1 = QDA(priors=None, reg_param=0.0)\n",
    "    clf2 = LogisticRegression()\n",
    "    clf3 = GaussianNB()\n",
    "    clf = VotingClassifier(estimators=[('QDA', clf1), ('LR', clf2), ('NB', clf3)], voting='hard') \n",
    "#     clf.fit(X_train, y_train)\n",
    "#     print\n",
    "    return clf\n",
    "    "
   ]
  },
  {
   "cell_type": "code",
   "execution_count": 125,
   "metadata": {
    "collapsed": true
   },
   "outputs": [],
   "source": [
    "def HMV_Layer2(clf_prev, k):\n",
    "    clf1 = KNeighborsClassifier(n_neighbors = k, algorithm = 'ball_tree', leaf_size=500)\n",
    "    clf2 = svm.SVC(C=1, kernel='linear')\n",
    "    clf = VotingClassifier(estimators=[('KNN', clf1), ('SVM', clf2), ('LAYER1', clf_prev)], voting='hard') \n",
    "#     clf.fit(X_train, y_train)\n",
    "#     clf.predict(X_test)\n",
    "    return clf\n",
    "    "
   ]
  },
  {
   "cell_type": "code",
   "execution_count": 126,
   "metadata": {
    "collapsed": true
   },
   "outputs": [],
   "source": [
    "def HMV_Layer3(clf_prev):\n",
    "    clf1 = DecisionTreeClassifier(class_weight=None, criterion='entropy', random_state=100, splitter='best')\n",
    "    clf2 = DecisionTreeClassifier(class_weight=None, criterion='gini', random_state=100, splitter='best')\n",
    "    clf = VotingClassifier(estimators=[('DTIG', clf1), ('DTGI', clf2), ('LAYER2', clf_prev)], voting='hard')\n",
    "#     clf.fit(X_train, y_train)\n",
    "    return clf"
   ]
  },
  {
   "cell_type": "code",
   "execution_count": 246,
   "metadata": {
    "collapsed": true
   },
   "outputs": [],
   "source": [
    "def run_HMV(X,y, k_knn):\n",
    "    lay1 = HMV_Layer1()\n",
    "    lay2 = HMV_Layer2(lay1, k_knn)\n",
    "    lay3 = HMV_Layer3(lay2)\n",
    "    scores = cross_val_score(lay3, X, y, cv=10)\n",
    "    lay3.fit(X, y)\n",
    "    predictions = lay3.predict(X, y)\n",
    "    return scores, predictions\n",
    "    "
   ]
  },
  {
   "cell_type": "code",
   "execution_count": 247,
   "metadata": {},
   "outputs": [
    {
     "ename": "TypeError",
     "evalue": "predict() takes 2 positional arguments but 3 were given",
     "output_type": "error",
     "traceback": [
      "\u001b[0;31m---------------------------------------------------------------------------\u001b[0m",
      "\u001b[0;31mTypeError\u001b[0m                                 Traceback (most recent call last)",
      "\u001b[0;32m<ipython-input-247-2093e08fd856>\u001b[0m in \u001b[0;36m<module>\u001b[0;34m()\u001b[0m\n\u001b[0;32m----> 1\u001b[0;31m \u001b[0mscores\u001b[0m\u001b[0;34m,\u001b[0m \u001b[0mpredictions\u001b[0m \u001b[0;34m=\u001b[0m \u001b[0mrun_HMV\u001b[0m\u001b[0;34m(\u001b[0m\u001b[0mX\u001b[0m\u001b[0;34m,\u001b[0m\u001b[0my\u001b[0m\u001b[0;34m,\u001b[0m\u001b[0mk_knn\u001b[0m\u001b[0;34m)\u001b[0m\u001b[0;34m\u001b[0m\u001b[0m\n\u001b[0m\u001b[1;32m      2\u001b[0m \u001b[0mprint\u001b[0m\u001b[0;34m(\u001b[0m\u001b[0;34m\"Mean = \"\u001b[0m \u001b[0;34m,\u001b[0m \u001b[0mscores\u001b[0m\u001b[0;34m.\u001b[0m\u001b[0mmean\u001b[0m\u001b[0;34m(\u001b[0m\u001b[0;34m)\u001b[0m\u001b[0;34m*\u001b[0m\u001b[0;36m100\u001b[0m\u001b[0;34m)\u001b[0m\u001b[0;34m\u001b[0m\u001b[0m\n\u001b[1;32m      3\u001b[0m \u001b[0mget_results\u001b[0m\u001b[0;34m(\u001b[0m\u001b[0my\u001b[0m\u001b[0;34m,\u001b[0m \u001b[0mpredictions\u001b[0m\u001b[0;34m,\u001b[0m \u001b[0mscores\u001b[0m\u001b[0;34m.\u001b[0m\u001b[0mstd\u001b[0m\u001b[0;34m(\u001b[0m\u001b[0;34m)\u001b[0m\u001b[0;34m)\u001b[0m\u001b[0;34m\u001b[0m\u001b[0m\n",
      "\u001b[0;32m<ipython-input-246-1e82a848f82e>\u001b[0m in \u001b[0;36mrun_HMV\u001b[0;34m(X, y, k_knn)\u001b[0m\n\u001b[1;32m      5\u001b[0m     \u001b[0mscores\u001b[0m \u001b[0;34m=\u001b[0m \u001b[0mcross_val_score\u001b[0m\u001b[0;34m(\u001b[0m\u001b[0mlay3\u001b[0m\u001b[0;34m,\u001b[0m \u001b[0mX\u001b[0m\u001b[0;34m,\u001b[0m \u001b[0my\u001b[0m\u001b[0;34m,\u001b[0m \u001b[0mcv\u001b[0m\u001b[0;34m=\u001b[0m\u001b[0;36m10\u001b[0m\u001b[0;34m)\u001b[0m\u001b[0;34m\u001b[0m\u001b[0m\n\u001b[1;32m      6\u001b[0m     \u001b[0mlay3\u001b[0m\u001b[0;34m.\u001b[0m\u001b[0mfit\u001b[0m\u001b[0;34m(\u001b[0m\u001b[0mX\u001b[0m\u001b[0;34m,\u001b[0m \u001b[0my\u001b[0m\u001b[0;34m)\u001b[0m\u001b[0;34m\u001b[0m\u001b[0m\n\u001b[0;32m----> 7\u001b[0;31m     \u001b[0mpredictions\u001b[0m \u001b[0;34m=\u001b[0m \u001b[0mlay3\u001b[0m\u001b[0;34m.\u001b[0m\u001b[0mpredict\u001b[0m\u001b[0;34m(\u001b[0m\u001b[0mX\u001b[0m\u001b[0;34m,\u001b[0m \u001b[0my\u001b[0m\u001b[0;34m)\u001b[0m\u001b[0;34m\u001b[0m\u001b[0m\n\u001b[0m\u001b[1;32m      8\u001b[0m     \u001b[0;32mreturn\u001b[0m \u001b[0mscores\u001b[0m\u001b[0;34m,\u001b[0m \u001b[0mpredictions\u001b[0m\u001b[0;34m\u001b[0m\u001b[0m\n\u001b[1;32m      9\u001b[0m \u001b[0;34m\u001b[0m\u001b[0m\n",
      "\u001b[0;31mTypeError\u001b[0m: predict() takes 2 positional arguments but 3 were given"
     ]
    }
   ],
   "source": [
    "scores, predictions = run_HMV(X,y,k_knn)\n",
    "print(\"Mean = \" , scores.mean()*100)\n",
    "get_results(results)"
   ]
  },
  {
   "cell_type": "code",
   "execution_count": null,
   "metadata": {
    "collapsed": true
   },
   "outputs": [],
   "source": []
  },
  {
   "cell_type": "code",
   "execution_count": null,
   "metadata": {
    "collapsed": true
   },
   "outputs": [],
   "source": []
  }
 ],
 "metadata": {
  "kernelspec": {
   "display_name": "Python 2",
   "language": "python",
   "name": "python2"
  },
  "language_info": {
   "codemirror_mode": {
    "name": "ipython",
    "version": 2
   },
   "file_extension": ".py",
   "mimetype": "text/x-python",
   "name": "python",
   "nbconvert_exporter": "python",
   "pygments_lexer": "ipython2",
   "version": "2.7.14"
  }
 },
 "nbformat": 4,
 "nbformat_minor": 2
}
