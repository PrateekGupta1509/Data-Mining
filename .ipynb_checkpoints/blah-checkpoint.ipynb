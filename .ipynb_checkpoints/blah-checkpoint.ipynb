{
 "cells": [
  {
   "cell_type": "code",
   "execution_count": 208,
   "metadata": {
    "collapsed": true
   },
   "outputs": [],
   "source": [
    "import numpy as np\n",
    "import pandas as pd\n",
    "import sklearn\n",
    "from sklearn.preprocessing import MinMaxScaler\n",
    "\n",
    "from sklearn.decomposition import PCA\n",
    "from sklearn.feature_selection import f_classif, SelectKBest\n",
    "from sklearn.neighbors import KNeighborsRegressor\n",
    "\n",
    "from sklearn.cross_validation import train_test_split"
   ]
  },
  {
   "cell_type": "code",
   "execution_count": 227,
   "metadata": {
    "collapsed": true
   },
   "outputs": [],
   "source": [
    "def chooseDataset(name):\n",
    "    dataPath = 'datasets/'\n",
    "    if name == 'diabetes':\n",
    "        colNames= ['pregnant', 'glucose', 'bp', 'skin', 'insulin', 'bmi', 'pedigree', 'age', 'Class']\n",
    "        df = pd.read_csv(dataPath + 'PIMA_Indiana_diabetes/pima-indians-diabetes.data.csv', names = colNames)\n",
    "        missCol = ['glucose','bp','skin','insulin','bmi']\n",
    "        for col in missCol:\n",
    "            df[col].replace([0,0.0], np.nan, inplace = True)\n",
    "                   \n",
    "#       convert 0 as missing values\n",
    "    elif name == 'breastCancer':\n",
    "        colNames = ['sampleCodeNumber', 'clumpThickness', 'uniformityCellSize', 'uniformityCellShape', 'marginalAdhesion', 'singleEpithelialCellSize', 'bareNuclei', 'blandChromatin', 'normalNucleoli', 'mitoses', 'Class']\n",
    "        df = pd.read_csv(dataPath + 'BreastCancer/breast-cancer-wisconsin.data.txt', names = colNames)\n",
    "        df.replace(\"?\", np.nan, inplace= True)\n",
    "        df['bareNuclei'] = pd.to_numeric(df['bareNuclei'])\n",
    "        # making class labels as 0 (Benign) and 1 (Malignant)\n",
    "        df['Class'] = df['Class'].replace(2, 0)\n",
    "        df['Class'] = df['Class'].replace(4, 1)\n",
    "        missCol = ['bareNuclei']\n",
    "    elif name == 'parkinsons':\n",
    "        colNames= ['name','MDVP:Fo','MDVP:Fhi','MDVP:Flo','MDVP:Jitter(%)','MDVP:Jitter(Abs)','MDVP:RAP','MDVP:PPQ','Jitter:DDP','MDVP:Shimmer','MDVP:Shimmer(dB)','Shimmer:APQ3','Shimmer:APQ5','MDVP:APQ','Shimmer:DDA','NHR','HNR','Class','RPDE','DFA','spread1','spread2','D2','PPE']\n",
    "        df=pd.read_csv(datapath+'Parkinsons/parkinsons.data.txt',names=colNames)\n",
    "        missCol=[]\n",
    "        #no missing values\n",
    "    elif name == 'BUPA':\n",
    "        #not given which one is infected\n",
    "        colNames = ['mcv', 'alkphos', 'sgpt','sgot','gammagt','drinks','Class']\n",
    "        df = pd.read_csv(datapath + 'BUPA(Liver)/bupa.data.txt',names = colNames )\n",
    "        df.drop_duplicates(subset=None, keep='first', inplace=True)\n",
    "        df['Class'] = df['Class'].replace(1, 0)\n",
    "        df['Class'] = df['Class'].replace(2, 1)\n",
    "        missCol=[]\n",
    "    elif name == 'Cleveland':\n",
    "        colNames= ['age','sex','cp','trestbps','chol','fbs','restecg'  ,'thalach', 'exang', 'oldpeak','slope','ca', 'thal','Class']\n",
    "        df = pd.read_csv(datapath + 'Cleveland(Heart)/processed.cleveland.data.txt',names = colNames)\n",
    "        df.replace (\"-9.0\",np.nan,inplace=True)\n",
    "        missCol = df.columns[df.isna().any()].tolist()\n",
    "    elif name == 'Hepatitis':\n",
    "        colNames =['Class','AGE','SEX','STEROID','ANTIVIRALS','FATIGUE','MALAISE','ANOREXIA','LIVER BIG','LIVER FIRM','SPLEEN PALPABLE','SPIDERS','ASCITES','VARICES','BILIRUBIN','ALK PHOSPHATE','SGOT','ALBUMIN','PROTIME','HISTOLOGY']\n",
    "        df = pd.read_csv(datapath + 'Hepatitis/hepatitis.data.txt',names= colNames)\n",
    "        df.replace(\"?\",np.nan,inplace=True)\n",
    "        missCol= df.columns[df.isna().any()].tolist()\n",
    "    elif name == 'ILPD':\n",
    "        colNames =['Age','Gender','TB','DB','Alkphos','SGPT','SGOT','TP','ALB','A/G','Class']\n",
    "        df = pd.read_csv(datapath + 'ILPD(Liver)/ILPD.csv',names= colNames)\n",
    "        missCol=[]\n",
    "        \n",
    "        \n",
    "    else:\n",
    "        print \"NOT FOUND\"\n",
    "        return\n",
    "    return df, missCol\n",
    "        "
   ]
  },
  {
   "cell_type": "code",
   "execution_count": 214,
   "metadata": {},
   "outputs": [
    {
     "name": "stdout",
     "output_type": "stream",
     "text": [
      "Index([u'sampleCodeNumber', u'clumpThickness', u'uniformityCellSize',\n",
      "       u'uniformityCellShape', u'marginalAdhesion',\n",
      "       u'singleEpithelialCellSize', u'bareNuclei', u'blandChromatin',\n",
      "       u'normalNucleoli', u'mitoses', u'label'],\n",
      "      dtype='object') sampleCodeNumber              int64\n",
      "clumpThickness                int64\n",
      "uniformityCellSize            int64\n",
      "uniformityCellShape           int64\n",
      "marginalAdhesion              int64\n",
      "singleEpithelialCellSize      int64\n",
      "bareNuclei                  float64\n",
      "blandChromatin                int64\n",
      "normalNucleoli                int64\n",
      "mitoses                       int64\n",
      "label                         int64\n",
      "dtype: object (699, 11)\n",
      "   sampleCodeNumber  clumpThickness  uniformityCellSize  uniformityCellShape  \\\n",
      "0           1000025               5                   1                    1   \n",
      "1           1002945               5                   4                    4   \n",
      "2           1015425               3                   1                    1   \n",
      "3           1016277               6                   8                    8   \n",
      "4           1017023               4                   1                    1   \n",
      "\n",
      "   marginalAdhesion  singleEpithelialCellSize  bareNuclei  blandChromatin  \\\n",
      "0                 1                         2         1.0               3   \n",
      "1                 5                         7        10.0               3   \n",
      "2                 1                         2         2.0               3   \n",
      "3                 1                         3         4.0               3   \n",
      "4                 3                         2         1.0               3   \n",
      "\n",
      "   normalNucleoli  mitoses  label  \n",
      "0               1        1      0  \n",
      "1               2        1      0  \n",
      "2               1        1      0  \n",
      "3               7        1      0  \n",
      "4               1        1      0  \n"
     ]
    }
   ],
   "source": [
    "df, missCol = chooseDataset('breastCancer')\n",
    "print df.columns, df.dtypes, df.shape\n",
    "print df.head()"
   ]
  },
  {
   "cell_type": "code",
   "execution_count": null,
   "metadata": {
    "collapsed": true
   },
   "outputs": [],
   "source": []
  },
  {
   "cell_type": "code",
   "execution_count": 210,
   "metadata": {
    "collapsed": true
   },
   "outputs": [],
   "source": [
    "# normalizing data\n",
    "def normalizeData(df):\n",
    "    scaler = MinMaxScaler(feature_range=(0, 1))\n",
    "    for i in df.columns:\n",
    "        null_index = df[i].isnull()\n",
    "        df.loc[~null_index, [i]] = scaler.fit_transform(df.loc[~null_index, [i]])\n",
    "    return df"
   ]
  },
  {
   "cell_type": "code",
   "execution_count": 211,
   "metadata": {
    "collapsed": true
   },
   "outputs": [],
   "source": [
    "df = normalizeData(df)"
   ]
  },
  {
   "cell_type": "code",
   "execution_count": null,
   "metadata": {
    "collapsed": true
   },
   "outputs": [],
   "source": [
    "def computeMissing(df):\n",
    "    # get No Missing Data Rows \n",
    "    no_missing_df = df.dropna(axis=0, how='any')\n",
    "    # get Missing Data Rows \n",
    "    missing_df = pd.DataFrame(df[~df.isin(no_missing_df).all(1)])\n",
    "    # removed last column\n",
    "    data = no_missing_df.drop(['label'], axis = 1, inplace = False)\n",
    "    # Create the knn model.\n",
    "\n",
    "    # Look at the five closest neighbors.\n",
    "    knn = KNeighborsRegressor(n_neighbors=5)\n",
    "    # Fit the model on the training data.\n",
    "    knn.fit(no_missing_df[x_columns], no_missing_df[y_column])\n",
    "    # Make point predictions on the test set using the fit model.\n",
    "    predictions = knn.predict(missing_df[x_columns])\n",
    "    # print (predictions)\n",
    "    missing_df['Bare Nuclei'] = predictions"
   ]
  },
  {
   "cell_type": "code",
   "execution_count": 212,
   "metadata": {
    "collapsed": true
   },
   "outputs": [],
   "source": [
    "def removeOutliers(df):\n",
    "    maskall = {}\n",
    "    Q1 = df.quantile(0.25)\n",
    "    Q3 = df.quantile(0.75)\n",
    "    \n",
    "    for col in df.columns[:-1]:\n",
    "        IQR = Q3[col] - Q1[col]\n",
    "        mask = df[col].between(Q1[col] - 1.5*IQR, Q3[col] + 1.5*IQR, inclusive=True)\n",
    "        maskall[col] =mask\n",
    "        df = df[mask]\n",
    "#         print df.shape\n",
    "    return df"
   ]
  },
  {
   "cell_type": "code",
   "execution_count": 213,
   "metadata": {},
   "outputs": [
    {
     "name": "stdout",
     "output_type": "stream",
     "text": [
      "(480, 11)\n"
     ]
    }
   ],
   "source": [
    "df2 = removeOutliers(df)\n",
    "print df2.shape"
   ]
  },
  {
   "cell_type": "code",
   "execution_count": null,
   "metadata": {
    "collapsed": true
   },
   "outputs": [],
   "source": [
    "label = df['label']\n",
    "df.drop('label', axis=1, inplace=True)\n",
    "\n",
    "X, y = df, label"
   ]
  },
  {
   "cell_type": "code",
   "execution_count": 190,
   "metadata": {
    "collapsed": true
   },
   "outputs": [],
   "source": [
    "def PCA_Compute(X,y, n = 0):\n",
    "    pca = PCA(n_components= X.shape[-1] - n, svd_solver='full')\n",
    "    pca.fit(X,y)\n",
    "    X = pca.transform(X,y)\n",
    "    print(pca.explained_variance_ratio_)"
   ]
  },
  {
   "cell_type": "code",
   "execution_count": 196,
   "metadata": {
    "collapsed": true
   },
   "outputs": [],
   "source": [
    "def Fscore_Compute(X,y, n = 5):\n",
    "    selector = SelectKBest(f_classif, k=n)\n",
    "    selector.fit(X,y)\n",
    "    X = selector.transform(X)\n",
    "    print selector.scores_, X.shape"
   ]
  },
  {
   "cell_type": "code",
   "execution_count": 197,
   "metadata": {},
   "outputs": [
    {
     "name": "stdout",
     "output_type": "stream",
     "text": [
      "[  39.67022739  213.16175218    3.2569504     4.30438091   13.28110753\n",
      "   71.7720721    23.8713002    46.14061124] (768, 5)\n"
     ]
    }
   ],
   "source": [
    "Fscore_Compute(X,y)"
   ]
  }
 ],
 "metadata": {
  "kernelspec": {
   "display_name": "Python 2",
   "language": "python",
   "name": "python2"
  },
  "language_info": {
   "codemirror_mode": {
    "name": "ipython",
    "version": 2
   },
   "file_extension": ".py",
   "mimetype": "text/x-python",
   "name": "python",
   "nbconvert_exporter": "python",
   "pygments_lexer": "ipython2",
   "version": "2.7.14"
  }
 },
 "nbformat": 4,
 "nbformat_minor": 2
}
