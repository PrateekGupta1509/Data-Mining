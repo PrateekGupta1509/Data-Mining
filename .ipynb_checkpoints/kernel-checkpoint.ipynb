{
 "cells": [
  {
   "cell_type": "code",
   "execution_count": 98,
   "metadata": {},
   "outputs": [],
   "source": [
    "import numpy as np\n",
    "import pandas as pd\n",
    "import sklearn\n",
    "import operator\n",
    "from sklearn.preprocessing import MinMaxScaler\n",
    "\n",
    "from sklearn.decomposition import PCA\n",
    "from sklearn.feature_selection import f_classif, SelectKBest\n",
    "from sklearn.neighbors import KNeighborsRegressor, KNeighborsClassifier\n",
    "\n",
    "from sklearn.model_selection import KFold\n",
    "\n",
    "from sklearn.cross_validation import train_test_split,cross_val_score, cross_val_predict\n",
    "# from sklearn.model_selection import cross_validate\n",
    "from sklearn.metrics import accuracy_score\n",
    "%inline matplotlib"
   ]
  },
  {
   "cell_type": "code",
   "execution_count": 60,
   "metadata": {},
   "outputs": [
    {
     "ename": "SyntaxError",
     "evalue": "invalid syntax (<ipython-input-60-af905e56298e>, line 21)",
     "output_type": "error",
     "traceback": [
      "\u001b[0;36m  File \u001b[0;32m\"<ipython-input-60-af905e56298e>\"\u001b[0;36m, line \u001b[0;32m21\u001b[0m\n\u001b[0;31m    elif name == 'parkinsons':\u001b[0m\n\u001b[0m       ^\u001b[0m\n\u001b[0;31mSyntaxError\u001b[0m\u001b[0;31m:\u001b[0m invalid syntax\n"
     ]
    }
   ],
   "source": [
    "def chooseDataset(name):\n",
    "    dataPath = 'datasets/'\n",
    "    if name == 'diabetes':\n",
    "        colNames= ['pregnant', 'glucose', 'bp', 'skin', 'insulin', 'bmi', 'pedigree', 'age', 'label']\n",
    "        df = pd.read_csv(dataPath + 'PIMA_Indiana_diabetes/pima-indians-diabetes.data.csv', names = colNames)\n",
    "        missCol = ['glucose','bp','skin','insulin','bmi']\n",
    "        for col in missCol:\n",
    "            df[col].replace([0,0.0], np.nan, inplace = True)\n",
    "                   \n",
    "#       convert 0 as missing values\n",
    "    elif name == 'breastCancer':\n",
    "        colNames = ['sampleCodeNumber', 'clumpThickness', 'uniformityCellSize', 'uniformityCellShape', 'marginalAdhesion', 'singleEpithelialCellSize', 'bareNuclei', 'blandChromatin', 'normalNucleoli', 'mitoses', 'label']\n",
    "        df = pd.read_csv(dataPath + 'BreastCancer/breast-cancer-wisconsin.data.txt', names = colNames)\n",
    "        df.replace(\"?\", np.nan, inplace= True)\n",
    "        df['bareNuclei'] = pd.to_numeric(df['bareNuclei'])\n",
    "        # making class labels as 0 (Benign) and 1 (Malignant)\n",
    "        df['label'] = df['label'].replace(2, 0)\n",
    "        df['label'] = df['label'].replace(4, 1)\n",
    "        missCol = ['bareNuclei']\n",
    "#         print pd.unique(df[missCol].values.ravel('K'))\n",
    "        elif name == 'parkinsons':\n",
    "        colNames= ['name','MDVP:Fo','MDVP:Fhi','MDVP:Flo','MDVP:Jitter(%)','MDVP:Jitter(Abs)','MDVP:RAP','MDVP:PPQ','Jitter:DDP','MDVP:Shimmer','MDVP:Shimmer(dB)','Shimmer:APQ3','Shimmer:APQ5','MDVP:APQ','Shimmer:DDA','NHR','HNR','Class','RPDE','DFA','spread1','spread2','D2','PPE']\n",
    "        df=pd.read_csv(datapath+'Parkinsons/parkinsons.data.txt',names=colNames)\n",
    "        missCol=[]\n",
    "        #no missing values\n",
    "        \n",
    "    elif name == 'BUPA':\n",
    "        #not given which one is infected\n",
    "        colNames = ['mcv', 'alkphos', 'sgpt','sgot','gammagt','drinks','Class']\n",
    "        df = pd.read_csv(datapath + 'BUPA(Liver)/bupa.data.txt',names = colNames )\n",
    "        df.drop_duplicates(subset=None, keep='first', inplace=True)\n",
    "        df['Class'] = df['Class'].replace(1, 0)\n",
    "        df['Class'] = df['Class'].replace(2, 1)\n",
    "        missCol=[]\n",
    "        \n",
    "    elif name == 'Cleveland':\n",
    "        colNames= ['age','sex','cp','trestbps','chol','fbs','restecg'  ,'thalach', 'exang', 'oldpeak','slope','ca', 'thal','Class']\n",
    "        df = pd.read_csv(datapath + 'Cleveland(Heart)/processed.cleveland.data.txt',names = colNames)\n",
    "        df.replace (\"-9.0\",np.nan,inplace=True)\n",
    "        missCol = df.columns[df.isna().any()].tolist()\n",
    "        \n",
    "    elif name == 'Hepatitis':\n",
    "        colNames =['Class','AGE','SEX','STEROID','ANTIVIRALS','FATIGUE','MALAISE','ANOREXIA','LIVER BIG','LIVER FIRM','SPLEEN PALPABLE','SPIDERS','ASCITES','VARICES','BILIRUBIN','ALK PHOSPHATE','SGOT','ALBUMIN','PROTIME','HISTOLOGY']\n",
    "        df = pd.read_csv(datapath + 'Hepatitis/hepatitis.data.txt',names= colNames)\n",
    "        df.replace(\"?\",np.nan,inplace=True)\n",
    "        missCol= df.columns[df.isna().any()].tolist()\n",
    "        \n",
    "    elif name == 'ILPD':\n",
    "        colNames =['Age','Gender','TB','DB','Alkphos','SGPT','SGOT','TP','ALB','A/G','Class']\n",
    "        df = pd.read_csv(datapath + 'ILPD(Liver)/ILPD.csv',names= colNames)\n",
    "        missCol=[]\n",
    "        \n",
    "    else:\n",
    "        print \"NOT FOUND\"\n",
    "        return\n",
    "    return df, missCol\n",
    "        "
   ]
  },
  {
   "cell_type": "code",
   "execution_count": 61,
   "metadata": {},
   "outputs": [
    {
     "name": "stdout",
     "output_type": "stream",
     "text": [
      "Index([u'sampleCodeNumber', u'clumpThickness', u'uniformityCellSize',\n",
      "       u'uniformityCellShape', u'marginalAdhesion',\n",
      "       u'singleEpithelialCellSize', u'bareNuclei', u'blandChromatin',\n",
      "       u'normalNucleoli', u'mitoses', u'label'],\n",
      "      dtype='object') sampleCodeNumber              int64\n",
      "clumpThickness                int64\n",
      "uniformityCellSize            int64\n",
      "uniformityCellShape           int64\n",
      "marginalAdhesion              int64\n",
      "singleEpithelialCellSize      int64\n",
      "bareNuclei                  float64\n",
      "blandChromatin                int64\n",
      "normalNucleoli                int64\n",
      "mitoses                       int64\n",
      "label                         int64\n",
      "dtype: object (699, 11)\n",
      "   sampleCodeNumber  clumpThickness  uniformityCellSize  uniformityCellShape  \\\n",
      "0           1000025               5                   1                    1   \n",
      "1           1002945               5                   4                    4   \n",
      "2           1015425               3                   1                    1   \n",
      "3           1016277               6                   8                    8   \n",
      "4           1017023               4                   1                    1   \n",
      "\n",
      "   marginalAdhesion  singleEpithelialCellSize  bareNuclei  blandChromatin  \\\n",
      "0                 1                         2         1.0               3   \n",
      "1                 5                         7        10.0               3   \n",
      "2                 1                         2         2.0               3   \n",
      "3                 1                         3         4.0               3   \n",
      "4                 3                         2         1.0               3   \n",
      "\n",
      "   normalNucleoli  mitoses  label  \n",
      "0               1        1      0  \n",
      "1               2        1      0  \n",
      "2               1        1      0  \n",
      "3               7        1      0  \n",
      "4               1        1      0  \n"
     ]
    }
   ],
   "source": [
    "df, missCol = chooseDataset('breastCancer')\n",
    "print df.columns, df.dtypes, df.shape\n",
    "print df.head()"
   ]
  },
  {
   "cell_type": "code",
   "execution_count": 62,
   "metadata": {
    "collapsed": true
   },
   "outputs": [],
   "source": [
    "# normalizing data\n",
    "def normalizeData(df):\n",
    "    scaler = MinMaxScaler(feature_range=(0, 1))\n",
    "    for i in df.columns:\n",
    "        null_index = df[i].isnull()\n",
    "        df.loc[~null_index, [i]] = scaler.fit_transform(df.loc[~null_index, [i]])\n",
    "    return df"
   ]
  },
  {
   "cell_type": "code",
   "execution_count": 63,
   "metadata": {},
   "outputs": [
    {
     "name": "stdout",
     "output_type": "stream",
     "text": [
      "   sampleCodeNumber  clumpThickness  uniformityCellSize  uniformityCellShape  \\\n",
      "0          0.070067        0.444444            0.000000             0.000000   \n",
      "1          0.070285        0.444444            0.333333             0.333333   \n",
      "2          0.071217        0.222222            0.000000             0.000000   \n",
      "3          0.071281        0.555556            0.777778             0.777778   \n",
      "4          0.071336        0.333333            0.000000             0.000000   \n",
      "\n",
      "   marginalAdhesion  singleEpithelialCellSize  bareNuclei  blandChromatin  \\\n",
      "0          0.000000                  0.111111    0.000000        0.222222   \n",
      "1          0.444444                  0.666667    1.000000        0.222222   \n",
      "2          0.000000                  0.111111    0.111111        0.222222   \n",
      "3          0.000000                  0.222222    0.333333        0.222222   \n",
      "4          0.222222                  0.111111    0.000000        0.222222   \n",
      "\n",
      "   normalNucleoli  mitoses  label  \n",
      "0        0.000000      0.0      0  \n",
      "1        0.111111      0.0      0  \n",
      "2        0.000000      0.0      0  \n",
      "3        0.666667      0.0      0  \n",
      "4        0.000000      0.0      0  \n"
     ]
    }
   ],
   "source": [
    "df = normalizeData(df)\n",
    "print df.head()\n",
    "\n",
    "# print pd.unique(df[missCol].values.ravel('K'))"
   ]
  },
  {
   "cell_type": "code",
   "execution_count": 64,
   "metadata": {
    "collapsed": true
   },
   "outputs": [],
   "source": [
    "def computeMissing(df,missCol, k = 5):\n",
    "    # get No Missing Data Rows \n",
    "#     print pd.unique(df[missCol].values.ravel('K'))\n",
    "    no_missing_df = df.dropna(axis=0, how='any')\n",
    "#     print(no_missing_df.shape, df.shape)\n",
    "#     print no_missing_df.head()\n",
    "    # get Missing Data Rows \n",
    "    missing_df = pd.DataFrame(df[~df.isin(no_missing_df).all(1)])\n",
    "#     print missing_df.head()\n",
    "    # removed last column\n",
    "    data = no_missing_df.drop(['label'], axis = 1, inplace = False)\n",
    "    # Create the knn model.\n",
    "    y_columns = missCol\n",
    "    x_columns = data.columns.tolist()\n",
    "#     print y_columns\n",
    "    for col in y_columns:\n",
    "        x_columns.remove(col)\n",
    "        \n",
    "    # Look at the five closest neighbors.\n",
    "    knn = KNeighborsRegressor(n_neighbors=k)\n",
    "    # Fit the model on the training data.\n",
    "    knn.fit(no_missing_df[x_columns], no_missing_df[y_columns])\n",
    "    # Make point predictions on the test set using the fit model.\n",
    "    predictions = knn.predict(missing_df[x_columns])\n",
    "    missing_df[y_columns] = predictions\n",
    "    no_missing_df = no_missing_df.append(missing_df)\n",
    "    return no_missing_df"
   ]
  },
  {
   "cell_type": "code",
   "execution_count": 65,
   "metadata": {
    "collapsed": true
   },
   "outputs": [],
   "source": [
    "df = computeMissing(df, missCol)"
   ]
  },
  {
   "cell_type": "code",
   "execution_count": 66,
   "metadata": {},
   "outputs": [
    {
     "data": {
      "text/html": [
       "<div>\n",
       "<style>\n",
       "    .dataframe thead tr:only-child th {\n",
       "        text-align: right;\n",
       "    }\n",
       "\n",
       "    .dataframe thead th {\n",
       "        text-align: left;\n",
       "    }\n",
       "\n",
       "    .dataframe tbody tr th {\n",
       "        vertical-align: top;\n",
       "    }\n",
       "</style>\n",
       "<table border=\"1\" class=\"dataframe\">\n",
       "  <thead>\n",
       "    <tr style=\"text-align: right;\">\n",
       "      <th></th>\n",
       "      <th>sampleCodeNumber</th>\n",
       "      <th>clumpThickness</th>\n",
       "      <th>uniformityCellSize</th>\n",
       "      <th>uniformityCellShape</th>\n",
       "      <th>marginalAdhesion</th>\n",
       "      <th>singleEpithelialCellSize</th>\n",
       "      <th>bareNuclei</th>\n",
       "      <th>blandChromatin</th>\n",
       "      <th>normalNucleoli</th>\n",
       "      <th>mitoses</th>\n",
       "      <th>label</th>\n",
       "    </tr>\n",
       "  </thead>\n",
       "  <tbody>\n",
       "    <tr>\n",
       "      <th>0</th>\n",
       "      <td>0.070067</td>\n",
       "      <td>0.444444</td>\n",
       "      <td>0.000000</td>\n",
       "      <td>0.000000</td>\n",
       "      <td>0.000000</td>\n",
       "      <td>0.111111</td>\n",
       "      <td>0.000000</td>\n",
       "      <td>0.222222</td>\n",
       "      <td>0.000000</td>\n",
       "      <td>0.0</td>\n",
       "      <td>0</td>\n",
       "    </tr>\n",
       "    <tr>\n",
       "      <th>1</th>\n",
       "      <td>0.070285</td>\n",
       "      <td>0.444444</td>\n",
       "      <td>0.333333</td>\n",
       "      <td>0.333333</td>\n",
       "      <td>0.444444</td>\n",
       "      <td>0.666667</td>\n",
       "      <td>1.000000</td>\n",
       "      <td>0.222222</td>\n",
       "      <td>0.111111</td>\n",
       "      <td>0.0</td>\n",
       "      <td>0</td>\n",
       "    </tr>\n",
       "    <tr>\n",
       "      <th>2</th>\n",
       "      <td>0.071217</td>\n",
       "      <td>0.222222</td>\n",
       "      <td>0.000000</td>\n",
       "      <td>0.000000</td>\n",
       "      <td>0.000000</td>\n",
       "      <td>0.111111</td>\n",
       "      <td>0.111111</td>\n",
       "      <td>0.222222</td>\n",
       "      <td>0.000000</td>\n",
       "      <td>0.0</td>\n",
       "      <td>0</td>\n",
       "    </tr>\n",
       "    <tr>\n",
       "      <th>3</th>\n",
       "      <td>0.071281</td>\n",
       "      <td>0.555556</td>\n",
       "      <td>0.777778</td>\n",
       "      <td>0.777778</td>\n",
       "      <td>0.000000</td>\n",
       "      <td>0.222222</td>\n",
       "      <td>0.333333</td>\n",
       "      <td>0.222222</td>\n",
       "      <td>0.666667</td>\n",
       "      <td>0.0</td>\n",
       "      <td>0</td>\n",
       "    </tr>\n",
       "    <tr>\n",
       "      <th>4</th>\n",
       "      <td>0.071336</td>\n",
       "      <td>0.333333</td>\n",
       "      <td>0.000000</td>\n",
       "      <td>0.000000</td>\n",
       "      <td>0.222222</td>\n",
       "      <td>0.111111</td>\n",
       "      <td>0.000000</td>\n",
       "      <td>0.222222</td>\n",
       "      <td>0.000000</td>\n",
       "      <td>0.0</td>\n",
       "      <td>0</td>\n",
       "    </tr>\n",
       "  </tbody>\n",
       "</table>\n",
       "</div>"
      ],
      "text/plain": [
       "   sampleCodeNumber  clumpThickness  uniformityCellSize  uniformityCellShape  \\\n",
       "0          0.070067        0.444444            0.000000             0.000000   \n",
       "1          0.070285        0.444444            0.333333             0.333333   \n",
       "2          0.071217        0.222222            0.000000             0.000000   \n",
       "3          0.071281        0.555556            0.777778             0.777778   \n",
       "4          0.071336        0.333333            0.000000             0.000000   \n",
       "\n",
       "   marginalAdhesion  singleEpithelialCellSize  bareNuclei  blandChromatin  \\\n",
       "0          0.000000                  0.111111    0.000000        0.222222   \n",
       "1          0.444444                  0.666667    1.000000        0.222222   \n",
       "2          0.000000                  0.111111    0.111111        0.222222   \n",
       "3          0.000000                  0.222222    0.333333        0.222222   \n",
       "4          0.222222                  0.111111    0.000000        0.222222   \n",
       "\n",
       "   normalNucleoli  mitoses  label  \n",
       "0        0.000000      0.0      0  \n",
       "1        0.111111      0.0      0  \n",
       "2        0.000000      0.0      0  \n",
       "3        0.666667      0.0      0  \n",
       "4        0.000000      0.0      0  "
      ]
     },
     "execution_count": 66,
     "metadata": {},
     "output_type": "execute_result"
    }
   ],
   "source": [
    "df.shape\n",
    "df.head()"
   ]
  },
  {
   "cell_type": "code",
   "execution_count": 67,
   "metadata": {
    "collapsed": true
   },
   "outputs": [],
   "source": [
    "def removeOutliers(df):\n",
    "    maskall = {}\n",
    "    Q1 = df.quantile(0.25)\n",
    "    Q3 = df.quantile(0.75)\n",
    "    \n",
    "    for col in df.columns[:-1]:\n",
    "        IQR = Q3[col] - Q1[col]\n",
    "        mask = df[col].between(Q1[col] - 1.5*IQR, Q3[col] + 1.5*IQR, inclusive=True)\n",
    "        maskall[col] =mask\n",
    "        df = df[mask]\n",
    "#         print df.shape\n",
    "    return df"
   ]
  },
  {
   "cell_type": "code",
   "execution_count": 68,
   "metadata": {},
   "outputs": [
    {
     "name": "stdout",
     "output_type": "stream",
     "text": [
      "(491, 11)\n"
     ]
    }
   ],
   "source": [
    "df2 = removeOutliers(df)\n",
    "print df2.shape"
   ]
  },
  {
   "cell_type": "code",
   "execution_count": 69,
   "metadata": {
    "collapsed": true
   },
   "outputs": [],
   "source": [
    "label = df['label']\n",
    "df.drop('label', axis=1, inplace=True)"
   ]
  },
  {
   "cell_type": "code",
   "execution_count": 85,
   "metadata": {},
   "outputs": [
    {
     "name": "stdout",
     "output_type": "stream",
     "text": [
      "     sampleCodeNumber  clumpThickness  uniformityCellSize  \\\n",
      "0            0.070067        0.444444            0.000000   \n",
      "1            0.070285        0.444444            0.333333   \n",
      "2            0.071217        0.222222            0.000000   \n",
      "3            0.071281        0.555556            0.777778   \n",
      "4            0.071336        0.333333            0.000000   \n",
      "5            0.071344        0.777778            1.000000   \n",
      "6            0.071417        0.000000            0.000000   \n",
      "7            0.071451        0.111111            0.000000   \n",
      "8            0.072535        0.111111            0.000000   \n",
      "9            0.072535        0.333333            0.111111   \n",
      "10           0.072700        0.000000            0.000000   \n",
      "11           0.072766        0.111111            0.000000   \n",
      "12           0.073187        0.444444            0.222222   \n",
      "13           0.073351        0.000000            0.000000   \n",
      "14           0.073393        0.777778            0.666667   \n",
      "15           0.073622        0.666667            0.333333   \n",
      "16           0.073700        0.333333            0.000000   \n",
      "17           0.073785        0.333333            0.000000   \n",
      "18           0.073849        1.000000            0.666667   \n",
      "19           0.073852        0.555556            0.000000   \n",
      "20           0.074141        0.666667            0.222222   \n",
      "21           0.074142        1.000000            0.444444   \n",
      "22           0.074305        0.222222            0.000000   \n",
      "24           0.074512        0.000000            0.000000   \n",
      "25           0.074973        0.444444            0.111111   \n",
      "26           0.075021        0.222222            0.111111   \n",
      "27           0.075067        0.444444            0.000000   \n",
      "28           0.075101        0.111111            0.000000   \n",
      "29           0.075362        0.000000            0.000000   \n",
      "30           0.075362        0.222222            0.000000   \n",
      "..                ...             ...                 ...   \n",
      "685          0.035312        0.000000            0.000000   \n",
      "686          0.035473        0.000000            0.000000   \n",
      "687          0.037686        0.222222            0.000000   \n",
      "688          0.040433        0.333333            0.000000   \n",
      "689          0.044271        0.000000            0.000000   \n",
      "690          0.044271        0.000000            0.000000   \n",
      "691          0.047299        0.444444            1.000000   \n",
      "692          0.048713        0.222222            0.000000   \n",
      "693          0.052387        0.222222            0.000000   \n",
      "694          0.053393        0.222222            0.000000   \n",
      "695          0.058251        0.111111            0.000000   \n",
      "696          0.061764        0.444444            1.000000   \n",
      "697          0.062410        0.333333            0.777778   \n",
      "698          0.062410        0.333333            0.777778   \n",
      "23           0.074322        0.777778            0.333333   \n",
      "40           0.077293        0.555556            0.555556   \n",
      "139          0.083748        0.000000            0.000000   \n",
      "145          0.083867        0.000000            0.000000   \n",
      "158          0.084527        0.000000            0.000000   \n",
      "164          0.084813        0.444444            0.000000   \n",
      "235          0.088078        0.222222            0.000000   \n",
      "249          0.008043        0.222222            0.000000   \n",
      "275          0.027715        0.222222            0.000000   \n",
      "292          0.037484        0.777778            0.777778   \n",
      "294          0.040657        0.000000            0.000000   \n",
      "297          0.000000        0.444444            0.333333   \n",
      "315          0.047976        0.333333            0.555556   \n",
      "321          0.050177        0.222222            0.000000   \n",
      "411          0.087871        0.000000            0.000000   \n",
      "617          0.074326        0.000000            0.000000   \n",
      "\n",
      "     uniformityCellShape  marginalAdhesion  singleEpithelialCellSize  \\\n",
      "0               0.000000          0.000000                  0.111111   \n",
      "1               0.333333          0.444444                  0.666667   \n",
      "2               0.000000          0.000000                  0.111111   \n",
      "3               0.777778          0.000000                  0.222222   \n",
      "4               0.000000          0.222222                  0.111111   \n",
      "5               1.000000          0.777778                  0.666667   \n",
      "6               0.000000          0.000000                  0.111111   \n",
      "7               0.111111          0.000000                  0.111111   \n",
      "8               0.000000          0.000000                  0.111111   \n",
      "9               0.000000          0.000000                  0.111111   \n",
      "10              0.000000          0.000000                  0.000000   \n",
      "11              0.000000          0.000000                  0.111111   \n",
      "12              0.222222          0.222222                  0.111111   \n",
      "13              0.000000          0.000000                  0.111111   \n",
      "14              0.444444          1.000000                  0.666667   \n",
      "15              0.555556          0.333333                  0.555556   \n",
      "16              0.000000          0.000000                  0.111111   \n",
      "17              0.000000          0.000000                  0.111111   \n",
      "18              0.666667          0.555556                  0.333333   \n",
      "19              0.000000          0.000000                  0.111111   \n",
      "20              0.111111          1.000000                  0.444444   \n",
      "21              0.444444          0.222222                  0.555556   \n",
      "22              0.000000          0.000000                  0.111111   \n",
      "24              0.000000          0.000000                  0.111111   \n",
      "25              0.222222          0.333333                  0.111111   \n",
      "26              0.000000          0.000000                  0.000000   \n",
      "27              0.000000          0.000000                  0.111111   \n",
      "28              0.000000          0.000000                  0.111111   \n",
      "29              0.222222          0.000000                  0.111111   \n",
      "30              0.000000          0.000000                  0.000000   \n",
      "..                   ...               ...                       ...   \n",
      "685             0.000000          0.000000                  0.111111   \n",
      "686             0.000000          0.000000                  0.111111   \n",
      "687             0.000000          0.000000                  0.111111   \n",
      "688             0.000000          0.000000                  0.111111   \n",
      "689             0.000000          0.000000                  0.111111   \n",
      "690             0.000000          0.222222                  0.111111   \n",
      "691             1.000000          0.444444                  0.333333   \n",
      "692             0.000000          0.000000                  0.111111   \n",
      "693             0.000000          0.000000                  0.111111   \n",
      "694             0.000000          0.000000                  0.222222   \n",
      "695             0.000000          0.000000                  0.111111   \n",
      "696             1.000000          0.222222                  0.666667   \n",
      "697             0.555556          0.333333                  0.222222   \n",
      "698             0.777778          0.444444                  0.333333   \n",
      "23              0.444444          0.000000                  0.111111   \n",
      "40              0.555556          0.888889                  0.555556   \n",
      "139             0.000000          0.000000                  0.000000   \n",
      "145             0.222222          0.000000                  0.111111   \n",
      "158             0.111111          0.000000                  0.222222   \n",
      "164             0.000000          0.000000                  0.111111   \n",
      "235             0.333333          0.000000                  0.111111   \n",
      "249             0.000000          0.000000                  0.111111   \n",
      "275             0.222222          0.000000                  0.111111   \n",
      "292             0.777778          0.000000                  0.111111   \n",
      "294             0.000000          0.000000                  0.111111   \n",
      "297             0.222222          0.000000                  0.111111   \n",
      "315             0.444444          0.555556                  0.666667   \n",
      "321             0.000000          0.000000                  0.111111   \n",
      "411             0.000000          0.000000                  0.000000   \n",
      "617             0.000000          0.000000                  0.000000   \n",
      "\n",
      "     bareNuclei  blandChromatin  normalNucleoli   mitoses  \n",
      "0      0.000000        0.222222        0.000000  0.000000  \n",
      "1      1.000000        0.222222        0.111111  0.000000  \n",
      "2      0.111111        0.222222        0.000000  0.000000  \n",
      "3      0.333333        0.222222        0.666667  0.000000  \n",
      "4      0.000000        0.222222        0.000000  0.000000  \n",
      "5      1.000000        0.888889        0.666667  0.000000  \n",
      "6      1.000000        0.222222        0.000000  0.000000  \n",
      "7      0.000000        0.222222        0.000000  0.000000  \n",
      "8      0.000000        0.000000        0.000000  0.444444  \n",
      "9      0.000000        0.111111        0.000000  0.000000  \n",
      "10     0.000000        0.222222        0.000000  0.000000  \n",
      "11     0.000000        0.111111        0.000000  0.000000  \n",
      "12     0.222222        0.333333        0.333333  0.000000  \n",
      "13     0.222222        0.222222        0.000000  0.000000  \n",
      "14     0.888889        0.444444        0.444444  0.333333  \n",
      "15     0.000000        0.333333        0.222222  0.000000  \n",
      "16     0.000000        0.111111        0.000000  0.000000  \n",
      "17     0.000000        0.222222        0.000000  0.000000  \n",
      "18     1.000000        0.333333        0.000000  0.111111  \n",
      "19     0.000000        0.222222        0.000000  0.000000  \n",
      "20     1.000000        0.444444        0.333333  0.333333  \n",
      "21     0.666667        0.666667        1.000000  0.000000  \n",
      "22     0.000000        0.111111        0.000000  0.000000  \n",
      "24     0.000000        0.222222        0.000000  0.000000  \n",
      "25     0.666667        0.222222        0.555556  0.000000  \n",
      "26     0.000000        0.111111        0.000000  0.000000  \n",
      "27     0.000000        0.111111        0.000000  0.000000  \n",
      "28     0.000000        0.111111        0.000000  0.000000  \n",
      "29     0.000000        0.000000        0.000000  0.000000  \n",
      "30     0.000000        0.111111        0.000000  0.000000  \n",
      "..          ...             ...             ...       ...  \n",
      "685    0.000000        0.000000        0.000000  0.000000  \n",
      "686    0.000000        0.000000        0.000000  0.000000  \n",
      "687    0.000000        0.111111        0.222222  0.000000  \n",
      "688    0.000000        0.000000        0.000000  0.000000  \n",
      "689    0.000000        0.000000        0.000000  0.777778  \n",
      "690    0.000000        0.000000        0.000000  0.000000  \n",
      "691    0.444444        0.333333        0.333333  0.000000  \n",
      "692    0.000000        0.000000        0.000000  0.000000  \n",
      "693    0.000000        0.111111        0.000000  0.111111  \n",
      "694    0.111111        0.000000        0.000000  0.000000  \n",
      "695    0.000000        0.000000        0.000000  0.000000  \n",
      "696    0.222222        0.777778        1.000000  0.111111  \n",
      "697    0.333333        1.000000        0.555556  0.000000  \n",
      "698    0.444444        1.000000        0.333333  0.000000  \n",
      "23     0.777778        0.666667        0.222222  0.000000  \n",
      "40     0.755556        0.666667        0.777778  0.000000  \n",
      "139    0.000000        0.111111        0.000000  0.000000  \n",
      "145    0.000000        0.111111        0.000000  0.000000  \n",
      "158    0.111111        0.000000        0.000000  0.000000  \n",
      "164    0.000000        0.222222        0.000000  0.000000  \n",
      "235    0.000000        0.222222        0.000000  0.000000  \n",
      "249    0.066667        0.222222        0.000000  0.000000  \n",
      "275    0.000000        0.111111        0.000000  0.000000  \n",
      "292    0.555556        0.555556        1.000000  0.000000  \n",
      "294    0.000000        0.111111        0.000000  0.000000  \n",
      "297    0.088889        0.111111        0.222222  0.000000  \n",
      "315    0.888889        0.333333        0.888889  0.000000  \n",
      "321    0.066667        0.222222        0.000000  0.000000  \n",
      "411    0.000000        0.111111        0.000000  0.000000  \n",
      "617    0.000000        0.000000        0.000000  0.000000  \n",
      "\n",
      "[699 rows x 10 columns] 0      0\n",
      "1      0\n",
      "2      0\n",
      "3      0\n",
      "4      0\n",
      "5      1\n",
      "6      0\n",
      "7      0\n",
      "8      0\n",
      "9      0\n",
      "10     0\n",
      "11     0\n",
      "12     1\n",
      "13     0\n",
      "14     1\n",
      "15     1\n",
      "16     0\n",
      "17     0\n",
      "18     1\n",
      "19     0\n",
      "20     1\n",
      "21     1\n",
      "22     0\n",
      "24     0\n",
      "25     1\n",
      "26     0\n",
      "27     0\n",
      "28     0\n",
      "29     0\n",
      "30     0\n",
      "      ..\n",
      "685    0\n",
      "686    0\n",
      "687    0\n",
      "688    0\n",
      "689    0\n",
      "690    0\n",
      "691    1\n",
      "692    0\n",
      "693    0\n",
      "694    0\n",
      "695    0\n",
      "696    1\n",
      "697    1\n",
      "698    1\n",
      "23     1\n",
      "40     0\n",
      "139    0\n",
      "145    0\n",
      "158    0\n",
      "164    0\n",
      "235    0\n",
      "249    0\n",
      "275    0\n",
      "292    1\n",
      "294    0\n",
      "297    0\n",
      "315    0\n",
      "321    0\n",
      "411    0\n",
      "617    0\n",
      "Name: label, Length: 699, dtype: int64\n"
     ]
    }
   ],
   "source": [
    "X, y = df, label\n",
    "print X,y"
   ]
  },
  {
   "cell_type": "code",
   "execution_count": 71,
   "metadata": {},
   "outputs": [
    {
     "name": "stdout",
     "output_type": "stream",
     "text": [
      "(699, 10)\n"
     ]
    }
   ],
   "source": [
    "print X.shape"
   ]
  },
  {
   "cell_type": "code",
   "execution_count": 74,
   "metadata": {
    "collapsed": true
   },
   "outputs": [],
   "source": [
    "def PCA_Compute(X,y, n = 0):\n",
    "    pca = PCA(n_components= X.shape[-1] - n, svd_solver='full')\n",
    "    pca.fit(X,y)\n",
    "    X = pca.transform(X)\n",
    "    print(pca.explained_variance_ratio_)\n",
    "    return X,y"
   ]
  },
  {
   "cell_type": "code",
   "execution_count": 15,
   "metadata": {
    "collapsed": true
   },
   "outputs": [],
   "source": [
    "def Fscore_Compute(X,y, n = 5):\n",
    "    selector = SelectKBest(f_classif, k=n)\n",
    "    selector.fit(X,y)\n",
    "    X = selector.transform(X)\n",
    "    print selector.scores_, X.shape\n",
    "    return X,y"
   ]
  },
  {
   "cell_type": "code",
   "execution_count": 16,
   "metadata": {},
   "outputs": [
    {
     "name": "stdout",
     "output_type": "stream",
     "text": [
      "[    4.51505927   733.20697841  1408.52721279  1419.30553012   657.79369959\n",
      "   608.71955539  1417.3134106    933.28729668   717.62804135   152.04023895] (699, 5)\n"
     ]
    }
   ],
   "source": [
    "X,y = Fscore_Compute(X,y)"
   ]
  },
  {
   "cell_type": "code",
   "execution_count": 86,
   "metadata": {},
   "outputs": [
    {
     "name": "stdout",
     "output_type": "stream",
     "text": [
      "[ 0.68958431  0.07112366  0.06063292  0.04437934  0.03869191  0.03413345\n",
      "  0.02515129  0.02254191  0.01135833  0.00240289]\n"
     ]
    }
   ],
   "source": [
    "X,y = PCA_Compute(X,y)"
   ]
  },
  {
   "cell_type": "code",
   "execution_count": 24,
   "metadata": {},
   "outputs": [
    {
     "name": "stdout",
     "output_type": "stream",
     "text": [
      "(699, 10)\n"
     ]
    }
   ],
   "source": [
    "print X.shape"
   ]
  },
  {
   "cell_type": "code",
   "execution_count": 76,
   "metadata": {},
   "outputs": [],
   "source": [
    "def getQDA(X,y):\n",
    "    from sklearn.discriminant_analysis import QuadraticDiscriminantAnalysis as QDA\n",
    "    clf = QDA()\n",
    "    QDA(priors=None, reg_param=0.0,store_covariances=True, tol=0.0001)\n",
    "    scores = cross_val_score(clf, X, y, cv=5)\n",
    "    return scores.mean()"
   ]
  },
  {
   "cell_type": "code",
   "execution_count": 77,
   "metadata": {},
   "outputs": [
    {
     "name": "stdout",
     "output_type": "stream",
     "text": [
      "0.947151531055\n"
     ]
    }
   ],
   "source": [
    "print  getQDA(X,y)"
   ]
  },
  {
   "cell_type": "code",
   "execution_count": 92,
   "metadata": {
    "collapsed": true
   },
   "outputs": [],
   "source": [
    "def getLR(X,y):\n",
    "    from sklearn import datasets, linear_model\n",
    "    from sklearn.metrics import mean_squared_error, r2_score\n",
    "    k_fold = KFold(n_splits=5, shuffle=True, random_state=0)\n",
    "    regr = linear_model.LinearRegression()\n",
    "    scores = cross_val_score(regr, X, y, cv=k_fold)\n",
    "    regr.predict(X_test)\n",
    "    return scores.mean()\n"
   ]
  },
  {
   "cell_type": "code",
   "execution_count": 93,
   "metadata": {},
   "outputs": [
    {
     "ename": "TypeError",
     "evalue": "'KFold' object is not iterable",
     "output_type": "error",
     "traceback": [
      "\u001b[0;31m---------------------------------------------------------------------------\u001b[0m",
      "\u001b[0;31mTypeError\u001b[0m                                 Traceback (most recent call last)",
      "\u001b[0;32m<ipython-input-93-7e1c87cbee8c>\u001b[0m in \u001b[0;36m<module>\u001b[0;34m()\u001b[0m\n\u001b[1;32m      1\u001b[0m \u001b[0;31m# help(KFold)\u001b[0m\u001b[0;34m\u001b[0m\u001b[0;34m\u001b[0m\u001b[0m\n\u001b[0;32m----> 2\u001b[0;31m \u001b[0;32mprint\u001b[0m \u001b[0mgetLR\u001b[0m\u001b[0;34m(\u001b[0m\u001b[0mX\u001b[0m\u001b[0;34m,\u001b[0m\u001b[0my\u001b[0m\u001b[0;34m)\u001b[0m\u001b[0;34m\u001b[0m\u001b[0m\n\u001b[0m",
      "\u001b[0;32m<ipython-input-92-d4bcc18c74d3>\u001b[0m in \u001b[0;36mgetLR\u001b[0;34m(X, y)\u001b[0m\n\u001b[1;32m      4\u001b[0m     \u001b[0mk_fold\u001b[0m \u001b[0;34m=\u001b[0m \u001b[0mKFold\u001b[0m\u001b[0;34m(\u001b[0m\u001b[0mn_splits\u001b[0m\u001b[0;34m=\u001b[0m\u001b[0;36m5\u001b[0m\u001b[0;34m,\u001b[0m \u001b[0mshuffle\u001b[0m\u001b[0;34m=\u001b[0m\u001b[0mTrue\u001b[0m\u001b[0;34m,\u001b[0m \u001b[0mrandom_state\u001b[0m\u001b[0;34m=\u001b[0m\u001b[0;36m0\u001b[0m\u001b[0;34m)\u001b[0m\u001b[0;34m\u001b[0m\u001b[0m\n\u001b[1;32m      5\u001b[0m     \u001b[0mregr\u001b[0m \u001b[0;34m=\u001b[0m \u001b[0mlinear_model\u001b[0m\u001b[0;34m.\u001b[0m\u001b[0mLinearRegression\u001b[0m\u001b[0;34m(\u001b[0m\u001b[0;34m)\u001b[0m\u001b[0;34m\u001b[0m\u001b[0m\n\u001b[0;32m----> 6\u001b[0;31m     \u001b[0mscores\u001b[0m \u001b[0;34m=\u001b[0m \u001b[0mcross_val_score\u001b[0m\u001b[0;34m(\u001b[0m\u001b[0mregr\u001b[0m\u001b[0;34m,\u001b[0m \u001b[0mX\u001b[0m\u001b[0;34m,\u001b[0m \u001b[0my\u001b[0m\u001b[0;34m,\u001b[0m \u001b[0mcv\u001b[0m\u001b[0;34m=\u001b[0m\u001b[0mk_fold\u001b[0m\u001b[0;34m)\u001b[0m\u001b[0;34m\u001b[0m\u001b[0m\n\u001b[0m\u001b[1;32m      7\u001b[0m     \u001b[0mregr\u001b[0m\u001b[0;34m.\u001b[0m\u001b[0mpredict\u001b[0m\u001b[0;34m(\u001b[0m\u001b[0mX_test\u001b[0m\u001b[0;34m)\u001b[0m\u001b[0;34m\u001b[0m\u001b[0m\n\u001b[1;32m      8\u001b[0m     \u001b[0;32mreturn\u001b[0m \u001b[0mscores\u001b[0m\u001b[0;34m.\u001b[0m\u001b[0mmean\u001b[0m\u001b[0;34m(\u001b[0m\u001b[0;34m)\u001b[0m\u001b[0;34m\u001b[0m\u001b[0m\n",
      "\u001b[0;32m/home/lucifer/.local/lib/python2.7/site-packages/sklearn/cross_validation.pyc\u001b[0m in \u001b[0;36mcross_val_score\u001b[0;34m(estimator, X, y, scoring, cv, n_jobs, verbose, fit_params, pre_dispatch)\u001b[0m\n\u001b[1;32m   1569\u001b[0m                                               \u001b[0mtrain\u001b[0m\u001b[0;34m,\u001b[0m \u001b[0mtest\u001b[0m\u001b[0;34m,\u001b[0m \u001b[0mverbose\u001b[0m\u001b[0;34m,\u001b[0m \u001b[0mNone\u001b[0m\u001b[0;34m,\u001b[0m\u001b[0;34m\u001b[0m\u001b[0m\n\u001b[1;32m   1570\u001b[0m                                               fit_params)\n\u001b[0;32m-> 1571\u001b[0;31m                       for train, test in cv)\n\u001b[0m\u001b[1;32m   1572\u001b[0m     \u001b[0;32mreturn\u001b[0m \u001b[0mnp\u001b[0m\u001b[0;34m.\u001b[0m\u001b[0marray\u001b[0m\u001b[0;34m(\u001b[0m\u001b[0mscores\u001b[0m\u001b[0;34m)\u001b[0m\u001b[0;34m[\u001b[0m\u001b[0;34m:\u001b[0m\u001b[0;34m,\u001b[0m \u001b[0;36m0\u001b[0m\u001b[0;34m]\u001b[0m\u001b[0;34m\u001b[0m\u001b[0m\n\u001b[1;32m   1573\u001b[0m \u001b[0;34m\u001b[0m\u001b[0m\n",
      "\u001b[0;31mTypeError\u001b[0m: 'KFold' object is not iterable"
     ]
    }
   ],
   "source": [
    "# help(KFold)\n",
    "print getLR(X,y)"
   ]
  },
  {
   "cell_type": "code",
   "execution_count": 82,
   "metadata": {
    "collapsed": true
   },
   "outputs": [],
   "source": [
    "def getSVM(X,y):\n",
    "    from sklearn import svm\n",
    "    svc = svm.SVC(C=1, kernel='linear')\n",
    "    scores = cross_val_score(svc, X, y, cv=5, scoring='precision_macro')\n",
    "    return scores.mean()"
   ]
  },
  {
   "cell_type": "code",
   "execution_count": 83,
   "metadata": {},
   "outputs": [
    {
     "name": "stdout",
     "output_type": "stream",
     "text": [
      "0.959796649131\n"
     ]
    }
   ],
   "source": [
    "print getSVM(X,y)"
   ]
  },
  {
   "cell_type": "code",
   "execution_count": 99,
   "metadata": {
    "collapsed": true
   },
   "outputs": [],
   "source": [
    "def getKNN(X,y,k):\n",
    "    knn = KNeighborsClassifier(n_neighbors = k, algorithm = 'ball_tree', leaf_size=500)\n",
    "    scores = cross_val_score(knn, X, y, cv=5, scoring='precision_macro')\n",
    "    return scores.mean()"
   ]
  },
  {
   "cell_type": "code",
   "execution_count": 110,
   "metadata": {},
   "outputs": [
    {
     "data": {
      "image/png": "[encoded data removed]",
      "text/plain": [
       "<matplotlib.figure.Figure at 0x7fe3135b4b10>"
      ]
     },
     "metadata": {},
     "output_type": "display_data"
    }
   ],
   "source": [
    "kr = range(1,40)\n",
    "ac = []\n",
    "for k in kr:\n",
    "    ac.append(getKNN(X,y,k))\n",
    "import matplotlib.pyplot as plt\n",
    "plt.figure()\n",
    "plt.plot(kr,ac)\n",
    "plt.show()"
   ]
  },
  {
   "cell_type": "code",
   "execution_count": 109,
   "metadata": {},
   "outputs": [
    {
     "data": {
      "image/png": "[encoded data removed]",
      "text/plain": [
       "<matplotlib.figure.Figure at 0x7fe313588110>"
      ]
     },
     "metadata": {},
     "output_type": "display_data"
    }
   ],
   "source": [
    "getKNN(X,y,7)"
   ]
  },
  {
   "cell_type": "code",
   "execution_count": 111,
   "metadata": {
    "collapsed": true
   },
   "outputs": [],
   "source": [
    "def getNaivebayes(X,y):\n",
    "    from sklearn.naive_bayes import GaussianNB\n",
    "    clf = GaussianNB()\n",
    "    clf.fit(X, y)\n",
    "    scores = cross_val_score(clf, X, y, cv=5)\n",
    "    return scores.mean()"
   ]
  },
  {
   "cell_type": "code",
   "execution_count": 112,
   "metadata": {},
   "outputs": [
    {
     "name": "stdout",
     "output_type": "stream",
     "text": [
      "0.94430437413\n"
     ]
    }
   ],
   "source": [
    "print (getNaivebayes(X,y))"
   ]
  },
  {
   "cell_type": "code",
   "execution_count": 113,
   "metadata": {
    "collapsed": true
   },
   "outputs": [],
   "source": [
    "def getDecisionTreeinfogain(X,y):\n",
    "    from sklearn import tree\n",
    "    from sklearn.tree import DecisionTreeClassifier\n",
    "    #X_train, X_test, Y_train, Y_test = train_test_split(X, y, test_size=0.25, random_state=42)\n",
    "    clf = DecisionTreeClassifier(class_weight=None, criterion='entropy', \n",
    "           random_state=100, splitter='best')\n",
    "    scores = cross_val_score(clf, X, y, cv=5)\n",
    "    return scores.mean()"
   ]
  },
  {
   "cell_type": "code",
   "execution_count": 115,
   "metadata": {},
   "outputs": [
    {
     "name": "stdout",
     "output_type": "stream",
     "text": [
      "0.928620191992\n"
     ]
    }
   ],
   "source": [
    "print(getDecisionTreeinfogain(X,y))"
   ]
  },
  {
   "cell_type": "code",
   "execution_count": 116,
   "metadata": {
    "collapsed": true
   },
   "outputs": [],
   "source": [
    "def getDecisionTreegini(X,y):\n",
    "    from sklearn import tree\n",
    "    from sklearn.tree import DecisionTreeClassifier\n",
    "    #X_train, X_test, Y_train, Y_test = train_test_split(X, y, test_size=0.25, random_state=42)\n",
    "    clf = DecisionTreeClassifier(class_weight=None, criterion='gini', \n",
    "           random_state=100, splitter='best')\n",
    "    scores = cross_val_score(clf, X, y, cv=5)\n",
    "    #y_pred = clf.predict(X_test)\n",
    "    return scores.mean()"
   ]
  },
  {
   "cell_type": "code",
   "execution_count": 117,
   "metadata": {},
   "outputs": [
    {
     "name": "stdout",
     "output_type": "stream",
     "text": [
      "0.935753063203\n"
     ]
    }
   ],
   "source": [
    "print (getDecisionTreegini(X,y))"
   ]
  },
  {
   "cell_type": "code",
   "execution_count": null,
   "metadata": {
    "collapsed": true
   },
   "outputs": [],
   "source": []
  },
  {
   "cell_type": "code",
   "execution_count": null,
   "metadata": {
    "collapsed": true
   },
   "outputs": [],
   "source": []
  }
 ],
 "metadata": {
  "kernelspec": {
   "display_name": "Python 2",
   "language": "python",
   "name": "python2"
  },
  "language_info": {
   "codemirror_mode": {
    "name": "ipython",
    "version": 2
   },
   "file_extension": ".py",
   "mimetype": "text/x-python",
   "name": "python",
   "nbconvert_exporter": "python",
   "pygments_lexer": "ipython2",
   "version": "2.7.14"
  }
 },
 "nbformat": 4,
 "nbformat_minor": 2
}
