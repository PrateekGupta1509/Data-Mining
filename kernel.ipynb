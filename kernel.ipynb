{
 "cells": [
  {
   "cell_type": "code",
   "execution_count": 489,
   "metadata": {},
   "outputs": [],
   "source": [
    "import operator\n",
    "import numpy as np\n",
    "import pandas as pd\n",
    "import sklearn\n",
    "\n",
    "# preprocess\n",
    "from sklearn.preprocessing import MinMaxScaler\n",
    "from sklearn.decomposition import PCA\n",
    "from sklearn.feature_selection import f_classif, SelectKBest\n",
    "\n",
    "# for classifiers\n",
    "from sklearn.discriminant_analysis import QuadraticDiscriminantAnalysis as QDA\n",
    "from sklearn.linear_model import LinearRegression, LogisticRegressionCV\n",
    "from sklearn.naive_bayes import GaussianNB\n",
    "from sklearn.neighbors import KNeighborsRegressor, KNeighborsClassifier\n",
    "from sklearn import svm\n",
    "from sklearn.ensemble import RandomForestClassifier, VotingClassifier\n",
    "from sklearn import tree\n",
    "from sklearn.tree import DecisionTreeClassifier\n",
    "\n",
    "# for cross_validate\n",
    "from sklearn.cross_validation import train_test_split,cross_val_score, cross_val_predict\n",
    "from sklearn.metrics import accuracy_score\n",
    "\n",
    "# Ignore Warning\n",
    "import warnings\n",
    "warnings.filterwarnings('ignore')\n",
    "\n",
    "# Inline plots\n",
    "%matplotlib inline"
   ]
  },
  {
   "cell_type": "code",
   "execution_count": 490,
   "metadata": {},
   "outputs": [],
   "source": [
    "def chooseDataset(name):\n",
    "    dataPath = 'datasets/'\n",
    "    if name == 'diabetes':\n",
    "        colNames= ['pregnant', 'glucose', 'bp', 'skin', 'insulin', 'bmi', 'pedigree', 'age', 'label']\n",
    "        df = pd.read_csv(dataPath + 'PIMA_Indiana_diabetes/pima-indians-diabetes.data.csv', names = colNames)\n",
    "        missCol = ['glucose','bp','skin','insulin','bmi']\n",
    "        for col in missCol:\n",
    "            df[col].replace([0,0.0], np.nan, inplace = True)\n",
    "                   \n",
    "#       convert 0 as missing values\n",
    "    elif name == 'breastCancer':\n",
    "        colNames = ['sampleCodeNumber', 'clumpThickness', 'uniformityCellSize', 'uniformityCellShape', 'marginalAdhesion', 'singleEpithelialCellSize', 'bareNuclei', 'blandChromatin', 'normalNucleoli', 'mitoses', 'label']\n",
    "        df = pd.read_csv(dataPath + 'BreastCancer/breast-cancer-wisconsin.data.txt', names = colNames)\n",
    "        df.replace(\"?\", np.nan, inplace= True)\n",
    "        df['bareNuclei'] = pd.to_numeric(df['bareNuclei'])\n",
    "        # making class labels as 0 (Benign) and 1 (Malignant)\n",
    "        df['label'] = df['label'].replace(2, 0)\n",
    "        df['label'] = df['label'].replace(4, 1)\n",
    "        missCol = ['bareNuclei']\n",
    "        k_knn = 7\n",
    "#         print pd.unique(df[missCol].values.ravel('K'))\n",
    "    elif name == 'parkinsons':\n",
    "        colNames= ['name','MDVP:Fo','MDVP:Fhi','MDVP:Flo','MDVP:Jitter(%)','MDVP:Jitter(Abs)','MDVP:RAP','MDVP:PPQ','Jitter:DDP','MDVP:Shimmer','MDVP:Shimmer(dB)','Shimmer:APQ3','Shimmer:APQ5','MDVP:APQ','Shimmer:DDA','NHR','HNR','label','RPDE','DFA','spread1','spread2','D2','PPE']\n",
    "        df=pd.read_csv(dataPath+'Parkinsons/parkinsons.data.txt',names=colNames)\n",
    "        missCol=[]\n",
    "        #no missing values\n",
    "        \n",
    "    elif name == 'BUPA':\n",
    "        #not given which one is infected\n",
    "        colNames = ['mcv', 'alkphos', 'sgpt','sgot','gammagt','drinks','label']\n",
    "        df = pd.read_csv(dataPath + 'BUPA(Liver)/bupa.data.txt',names = colNames )\n",
    "        df.drop_duplicates(subset=None, keep='first', inplace=True)\n",
    "        df['Class'] = df['Class'].replace(1, 0)\n",
    "        df['Class'] = df['Class'].replace(2, 1)\n",
    "        missCol=[]\n",
    "        \n",
    "    elif name == 'Cleveland':\n",
    "        colNames= ['age','sex','cp','trestbps','chol','fbs','restecg'  ,'thalach', 'exang', 'oldpeak','slope','ca', 'thal','label']\n",
    "        df = pd.read_csv(dataPath + 'Cleveland(Heart)/processed.cleveland.data.txt',names = colNames)\n",
    "        df.replace (\"-9.0\",np.nan,inplace=True)\n",
    "        missCol = df.columns[df.isna().any()].tolist()\n",
    "        \n",
    "    elif name == 'Hepatitis':\n",
    "        colNames =['label','AGE','SEX','STEROID','ANTIVIRALS','FATIGUE','MALAISE','ANOREXIA','LIVER BIG','LIVER FIRM','SPLEEN PALPABLE','SPIDERS','ASCITES','VARICES','BILIRUBIN','ALK PHOSPHATE','SGOT','ALBUMIN','PROTIME','HISTOLOGY']\n",
    "        df = pd.read_csv(dataPath + 'Hepatitis/hepatitis.data.txt',names= colNames)\n",
    "        df.replace(\"?\",np.nan,inplace=True)\n",
    "        missCol= df.columns[df.isna().any()].tolist()\n",
    "        \n",
    "    elif name == 'ILPD':\n",
    "        colNames =['Age','Gender','TB','DB','Alkphos','SGPT','SGOT','TP','ALB','A/G','label']\n",
    "        df = pd.read_csv(dataPath + 'ILPD(Liver)/ILPD.csv',names= colNames)\n",
    "        df['Gender'] = df['Gender'].replace('Male', 0)\n",
    "        df['Gender'] = df['Gender'].replace('Female', 1)\n",
    "        missCol=['A/G']\n",
    "        k_knn = 0\n",
    "    else:\n",
    "        print (\"NOT FOUND\")\n",
    "        return\n",
    "    return df, missCol, k_knn\n",
    "        "
   ]
  },
  {
   "cell_type": "code",
   "execution_count": 491,
   "metadata": {},
   "outputs": [
    {
     "name": "stdout",
     "output_type": "stream",
     "text": [
      "(Index([u'Age', u'Gender', u'TB', u'DB', u'Alkphos', u'SGPT', u'SGOT', u'TP',\n",
      "       u'ALB', u'A/G', u'label'],\n",
      "      dtype='object'), Age          int64\n",
      "Gender       int64\n",
      "TB         float64\n",
      "DB         float64\n",
      "Alkphos      int64\n",
      "SGPT         int64\n",
      "SGOT         int64\n",
      "TP         float64\n",
      "ALB        float64\n",
      "A/G        float64\n",
      "label        int64\n",
      "dtype: object, (583, 11))\n",
      "   Age  Gender    TB   DB  Alkphos  SGPT  SGOT   TP  ALB   A/G  label\n",
      "0   65       1   0.7  0.1      187    16    18  6.8  3.3  0.90      1\n",
      "1   62       0  10.9  5.5      699    64   100  7.5  3.2  0.74      1\n",
      "2   62       0   7.3  4.1      490    60    68  7.0  3.3  0.89      1\n",
      "3   58       0   1.0  0.4      182    14    20  6.8  3.4  1.00      1\n",
      "4   72       0   3.9  2.0      195    27    59  7.3  2.4  0.40      1\n"
     ]
    }
   ],
   "source": [
    "df, missCol, k_knn = chooseDataset('ILPD')\n",
    "print (df.columns, df.dtypes, df.shape)\n",
    "print (df.head())\n",
    "# print df.loc[np.isnan(df['A/G'])]"
   ]
  },
  {
   "cell_type": "code",
   "execution_count": 492,
   "metadata": {},
   "outputs": [],
   "source": [
    "# normalizing data\n",
    "def normalizeData(df):\n",
    "    scaler = MinMaxScaler(feature_range=(0, 1))\n",
    "    for i in df.columns:\n",
    "        null_index = df[i].isnull()\n",
    "        df.loc[~null_index, [i]] = scaler.fit_transform(df.loc[~null_index, [i]])\n",
    "    return df"
   ]
  },
  {
   "cell_type": "code",
   "execution_count": 493,
   "metadata": {},
   "outputs": [
    {
     "name": "stdout",
     "output_type": "stream",
     "text": [
      "        Age  Gender        TB        DB   Alkphos      SGPT      SGOT  \\\n",
      "0  0.709302     1.0  0.004021  0.000000  0.060576  0.003015  0.001626   \n",
      "1  0.674419     0.0  0.140751  0.275510  0.310699  0.027136  0.018296   \n",
      "2  0.674419     0.0  0.092493  0.204082  0.208598  0.025126  0.011791   \n",
      "3  0.627907     0.0  0.008043  0.015306  0.058134  0.002010  0.002033   \n",
      "4  0.790698     0.0  0.046917  0.096939  0.064485  0.008543  0.009961   \n",
      "\n",
      "         TP       ALB    A/G  label  \n",
      "0  0.594203  0.521739  0.240    0.0  \n",
      "1  0.695652  0.500000  0.176    0.0  \n",
      "2  0.623188  0.521739  0.236    0.0  \n",
      "3  0.594203  0.543478  0.280    0.0  \n",
      "4  0.666667  0.326087  0.040    0.0  \n"
     ]
    }
   ],
   "source": [
    "df = normalizeData(df)\n",
    "print (df.head())\n",
    "\n",
    "# print pd.unique(df[missCol].values.ravel('K'))"
   ]
  },
  {
   "cell_type": "code",
   "execution_count": 494,
   "metadata": {},
   "outputs": [],
   "source": [
    "def computeMissing(df,missCol, k = 5):\n",
    "    # get No Missing Data Rows \n",
    "#     print pd.unique(df[missCol].values.ravel('K'))\n",
    "    if missCol == []:\n",
    "        return df\n",
    "    no_missing_df = df.dropna(axis=0, how='any')\n",
    "#     print(no_missing_df.shape, df.shape)\n",
    "#     print no_missing_df.head()\n",
    "    # get Missing Data Rows \n",
    "    missing_df = pd.DataFrame(df[~df.isin(no_missing_df).all(1)])\n",
    "#     print missing_df.head()\n",
    "    # removed last column\n",
    "    data = no_missing_df.drop(['label'], axis = 1, inplace = False)\n",
    "    # Create the knn model.\n",
    "    y_columns = missCol\n",
    "    x_columns = data.columns.tolist()\n",
    "#     print y_columns\n",
    "    for col in y_columns:\n",
    "        x_columns.remove(col)\n",
    "        \n",
    "    # Look at the five closest neighbors.\n",
    "    knn = KNeighborsRegressor(n_neighbors=k)\n",
    "    # Fit the model on the training data.\n",
    "    knn.fit(no_missing_df[x_columns], no_missing_df[y_columns])\n",
    "    # Make point predictions on the test set using the fit model.\n",
    "    predictions = knn.predict(missing_df[x_columns])\n",
    "    missing_df[y_columns] = predictions\n",
    "    no_missing_df = no_missing_df.append(missing_df)\n",
    "    return no_missing_df"
   ]
  },
  {
   "cell_type": "code",
   "execution_count": 495,
   "metadata": {},
   "outputs": [],
   "source": [
    "df = computeMissing(df, missCol)"
   ]
  },
  {
   "cell_type": "code",
   "execution_count": 496,
   "metadata": {},
   "outputs": [
    {
     "name": "stdout",
     "output_type": "stream",
     "text": [
      "(583, 11)\n",
      "        Age  Gender        TB        DB   Alkphos      SGPT      SGOT  \\\n",
      "0  0.709302     1.0  0.004021  0.000000  0.060576  0.003015  0.001626   \n",
      "1  0.674419     0.0  0.140751  0.275510  0.310699  0.027136  0.018296   \n",
      "2  0.674419     0.0  0.092493  0.204082  0.208598  0.025126  0.011791   \n",
      "3  0.627907     0.0  0.008043  0.015306  0.058134  0.002010  0.002033   \n",
      "4  0.790698     0.0  0.046917  0.096939  0.064485  0.008543  0.009961   \n",
      "\n",
      "         TP       ALB    A/G  label  \n",
      "0  0.594203  0.521739  0.240    0.0  \n",
      "1  0.695652  0.500000  0.176    0.0  \n",
      "2  0.623188  0.521739  0.236    0.0  \n",
      "3  0.594203  0.543478  0.280    0.0  \n",
      "4  0.666667  0.326087  0.040    0.0  \n"
     ]
    }
   ],
   "source": [
    "print df.shape\n",
    "print df.head()"
   ]
  },
  {
   "cell_type": "code",
   "execution_count": 497,
   "metadata": {},
   "outputs": [],
   "source": [
    "def removeOutliers(df):\n",
    "    maskall = {}\n",
    "    Q1 = df.quantile(0.25)\n",
    "    Q3 = df.quantile(0.75)\n",
    "    \n",
    "    for col in df.columns[:-1]:\n",
    "        IQR = Q3[col] - Q1[col]\n",
    "        mask = df[col].between(Q1[col] - 1.5*IQR, Q3[col] + 1.5*IQR, inclusive=True)\n",
    "        maskall[col] =mask\n",
    "        df = df[mask]\n",
    "#         print df.shape\n",
    "    return df"
   ]
  },
  {
   "cell_type": "code",
   "execution_count": 498,
   "metadata": {},
   "outputs": [
    {
     "name": "stdout",
     "output_type": "stream",
     "text": [
      "(288, 11)\n"
     ]
    }
   ],
   "source": [
    "df2 = removeOutliers(df)\n",
    "print (df2.shape)"
   ]
  },
  {
   "cell_type": "code",
   "execution_count": 499,
   "metadata": {},
   "outputs": [],
   "source": [
    "label = df['label']\n",
    "df.drop('label', axis=1, inplace=True)"
   ]
  },
  {
   "cell_type": "code",
   "execution_count": 500,
   "metadata": {},
   "outputs": [
    {
     "name": "stdout",
     "output_type": "stream",
     "text": [
      "(          Age  Gender        TB        DB   Alkphos      SGPT      SGOT  \\\n",
      "0    0.709302     1.0  0.004021  0.000000  0.060576  0.003015  0.001626   \n",
      "1    0.674419     0.0  0.140751  0.275510  0.310699  0.027136  0.018296   \n",
      "2    0.674419     0.0  0.092493  0.204082  0.208598  0.025126  0.011791   \n",
      "3    0.627907     0.0  0.008043  0.015306  0.058134  0.002010  0.002033   \n",
      "4    0.790698     0.0  0.046917  0.096939  0.064485  0.008543  0.009961   \n",
      "5    0.488372     0.0  0.018767  0.030612  0.070835  0.004523  0.000813   \n",
      "6    0.255814     1.0  0.006702  0.005102  0.044455  0.003015  0.000407   \n",
      "7    0.290698     1.0  0.006702  0.010204  0.067904  0.002010  0.000203   \n",
      "8    0.151163     0.0  0.006702  0.010204  0.067904  0.006030  0.001830   \n",
      "9    0.593023     0.0  0.004021  0.005102  0.110894  0.021608  0.009758   \n",
      "10   0.616279     0.0  0.002681  0.000000  0.071812  0.020603  0.009961   \n",
      "11   0.790698     0.0  0.030831  0.061224  0.096238  0.010553  0.009351   \n",
      "12   0.697674     0.0  0.006702  0.010204  0.120664  0.025628  0.009758   \n",
      "13   0.813953     1.0  0.009383  0.015306  0.073766  0.006030  0.004066   \n",
      "14   0.662791     0.0  0.004021  0.005102  0.040059  0.021608  0.006302   \n",
      "15   0.244186     0.0  0.002681  0.000000  0.058622  0.040704  0.008742   \n",
      "16   0.395349     0.0  0.018767  0.035714  0.136297  0.079397  0.087619   \n",
      "17   0.337209     0.0  0.016086  0.020408  0.049829  0.002513  0.002643   \n",
      "18   0.418605     1.0  0.006702  0.010204  0.112360  0.111558  0.047774   \n",
      "19   0.418605     1.0  0.006702  0.010204  0.112360  0.111558  0.047774   \n",
      "20   0.546512     0.0  0.024129  0.045918  0.267220  0.003518  0.003659   \n",
      "21   0.546512     0.0  0.033512  0.061224  0.204690  0.006030  0.004879   \n",
      "22   0.674419     0.0  0.085791  0.147959  0.234001  0.053266  0.011384   \n",
      "23   0.418605     0.0  0.020107  0.045918  0.082071  0.003015  0.009148   \n",
      "24   0.686047     0.0  0.006702  0.005102  0.063996  0.021106  0.007115   \n",
      "25   0.348837     0.0  0.049598  0.096939  0.110405  0.434673  0.146575   \n",
      "26   0.348837     0.0  0.049598  0.096939  0.110405  0.434673  0.146575   \n",
      "27   0.348837     0.0  0.077748  0.147959  0.086468  0.839196  0.170766   \n",
      "28   0.186047     0.0  0.009383  0.020408  0.031754  0.005025  0.004066   \n",
      "29   0.930233     1.0  0.004021  0.005102  0.061065  0.001508  0.002236   \n",
      "..        ...     ...       ...       ...       ...       ...       ...   \n",
      "557  0.546512     0.0  0.033512  0.056122  0.061553  0.035176  0.023379   \n",
      "558  0.546512     0.0  0.048257  0.122449  0.103566  0.186935  0.065054   \n",
      "559  0.255814     0.0  0.568365  1.000000  0.159746  0.032663  0.026022   \n",
      "560  0.720930     0.0  0.198391  0.387755  0.143136  0.156281  0.112218   \n",
      "561  0.720930     0.0  0.217158  0.382653  0.123107  0.112060  0.076032   \n",
      "562  0.720930     0.0  0.226542  0.428571  0.158769  0.081910  0.072576   \n",
      "563  0.697674     0.0  0.013405  0.020408  0.114802  0.010553  0.014840   \n",
      "564  0.395349     1.0  0.002681  0.000000  0.049829  0.006030  0.004879   \n",
      "565  0.453488     0.0  0.296247  0.596939  0.039082  0.006030  0.027038   \n",
      "566  0.534884     1.0  0.008043  0.010204  0.062531  0.006030  0.004269   \n",
      "567  0.558140     0.0  0.030831  0.066327  0.091842  0.005025  0.006099   \n",
      "568  0.186047     1.0  0.218499  0.423469  0.066927  0.040704  0.018500   \n",
      "569  0.139535     0.0  0.097855  0.204082  0.100147  0.102010  0.032120   \n",
      "570  0.139535     0.0  0.029491  0.056122  0.084514  0.060804  0.016263   \n",
      "571  1.000000     0.0  0.009383  0.010204  0.074255  0.018090  0.025208   \n",
      "572  0.325581     0.0  0.203753  0.479592  0.034685  0.022111  0.023379   \n",
      "573  0.325581     0.0  0.044236  0.076531  0.268197  0.020101  0.015857   \n",
      "574  0.325581     0.0  0.156836  0.301020  0.220811  0.019095  0.016670   \n",
      "575  0.325581     0.0  0.329759  0.693878  0.242794  0.015578  0.015857   \n",
      "576  0.325581     0.0  0.195710  0.413265  0.110405  0.024121  0.014231   \n",
      "577  0.325581     0.0  0.164879  0.423469  0.062042  0.009045  0.007522   \n",
      "578  0.651163     0.0  0.001340  0.000000  0.213483  0.005025  0.004879   \n",
      "579  0.418605     0.0  0.002681  0.000000  0.017098  0.012563  0.004269   \n",
      "580  0.558140     0.0  0.005362  0.005102  0.088911  0.019095  0.007928   \n",
      "581  0.313953     0.0  0.012064  0.020408  0.059111  0.009548  0.004472   \n",
      "582  0.395349     0.0  0.008043  0.010204  0.074744  0.005528  0.002846   \n",
      "209  0.476744     1.0  0.006702  0.010204  0.061553  0.006533  0.004676   \n",
      "241  0.546512     0.0  0.005362  0.005102  0.081583  0.007035  0.007319   \n",
      "253  0.360465     1.0  0.002681  0.005102  0.057157  0.001005  0.001016   \n",
      "312  0.267442     0.0  0.012064  0.025510  0.021006  0.007538  0.008945   \n",
      "\n",
      "           TP       ALB     A/G  \n",
      "0    0.594203  0.521739  0.2400  \n",
      "1    0.695652  0.500000  0.1760  \n",
      "2    0.623188  0.521739  0.2360  \n",
      "3    0.594203  0.543478  0.2800  \n",
      "4    0.666667  0.326087  0.0400  \n",
      "5    0.710145  0.760870  0.4000  \n",
      "6    0.623188  0.565217  0.2800  \n",
      "7    0.579710  0.586957  0.3200  \n",
      "8    0.681159  0.695652  0.3600  \n",
      "9    0.594203  0.543478  0.2800  \n",
      "10   0.463768  0.391304  0.2000  \n",
      "11   0.681159  0.456522  0.1200  \n",
      "12   0.623188  0.543478  0.2400  \n",
      "13   0.782609  0.695652  0.2800  \n",
      "14   0.449275  0.391304  0.2280  \n",
      "15   0.405797  0.304348  0.1600  \n",
      "16   0.710145  0.760870  0.4000  \n",
      "17   0.666667  0.565217  0.2480  \n",
      "18   0.594203  0.478261  0.2000  \n",
      "19   0.594203  0.478261  0.2000  \n",
      "20   0.666667  0.369565  0.1000  \n",
      "21   0.623188  0.326087  0.0800  \n",
      "22   0.536232  0.478261  0.2400  \n",
      "23   0.231884  0.152174  0.1200  \n",
      "24   0.478261  0.652174  0.6200  \n",
      "25   0.333333  0.391304  0.3200  \n",
      "26   0.333333  0.391304  0.3200  \n",
      "27   0.652174  0.673913  0.3600  \n",
      "28   0.173913  0.217391  0.2600  \n",
      "29   0.478261  0.500000  0.3200  \n",
      "..        ...       ...     ...  \n",
      "557  0.507246  0.478261  0.2800  \n",
      "558  0.695652  0.673913  0.3200  \n",
      "559  0.695652  0.369565  0.0800  \n",
      "560  0.550725  0.282609  0.0400  \n",
      "561  0.608696  0.239130  0.0400  \n",
      "562  0.739130  0.369565  0.0800  \n",
      "563  0.652174  0.369565  0.0800  \n",
      "564  0.463768  0.434783  0.2400  \n",
      "565  0.565217  0.260870  0.0640  \n",
      "566  0.739130  0.673913  0.2800  \n",
      "567  0.478261  0.173913  0.0360  \n",
      "568  0.608696  0.565217  0.2880  \n",
      "569  0.637681  0.673913  0.3600  \n",
      "570  0.391304  0.369565  0.2400  \n",
      "571  0.608696  0.456522  0.1600  \n",
      "572  0.420290  0.673913  0.8800  \n",
      "573  0.507246  0.217391  0.0400  \n",
      "574  0.565217  0.326087  0.0800  \n",
      "575  0.753623  0.347826  0.8800  \n",
      "576  0.376812  0.282609  0.1600  \n",
      "577  0.391304  0.369565  0.2400  \n",
      "578  0.463768  0.152174  0.0280  \n",
      "579  0.478261  0.500000  0.3200  \n",
      "580  0.536232  0.500000  0.2800  \n",
      "581  0.594203  0.543478  0.2800  \n",
      "582  0.666667  0.760870  0.4800  \n",
      "209  0.565217  0.652174  0.3888  \n",
      "241  0.550725  0.478261  0.2528  \n",
      "253  0.362319  0.391304  0.2800  \n",
      "312  0.840580  0.847826  0.4080  \n",
      "\n",
      "[583 rows x 10 columns], 0      0.0\n",
      "1      0.0\n",
      "2      0.0\n",
      "3      0.0\n",
      "4      0.0\n",
      "5      0.0\n",
      "6      0.0\n",
      "7      0.0\n",
      "8      1.0\n",
      "9      0.0\n",
      "10     0.0\n",
      "11     0.0\n",
      "12     1.0\n",
      "13     0.0\n",
      "14     0.0\n",
      "15     1.0\n",
      "16     0.0\n",
      "17     1.0\n",
      "18     0.0\n",
      "19     0.0\n",
      "20     0.0\n",
      "21     0.0\n",
      "22     0.0\n",
      "23     0.0\n",
      "24     1.0\n",
      "25     0.0\n",
      "26     0.0\n",
      "27     0.0\n",
      "28     1.0\n",
      "29     1.0\n",
      "      ... \n",
      "557    0.0\n",
      "558    0.0\n",
      "559    0.0\n",
      "560    0.0\n",
      "561    0.0\n",
      "562    0.0\n",
      "563    0.0\n",
      "564    1.0\n",
      "565    0.0\n",
      "566    1.0\n",
      "567    0.0\n",
      "568    0.0\n",
      "569    0.0\n",
      "570    0.0\n",
      "571    0.0\n",
      "572    0.0\n",
      "573    0.0\n",
      "574    0.0\n",
      "575    0.0\n",
      "576    0.0\n",
      "577    0.0\n",
      "578    1.0\n",
      "579    0.0\n",
      "580    0.0\n",
      "581    0.0\n",
      "582    1.0\n",
      "209    0.0\n",
      "241    0.0\n",
      "253    1.0\n",
      "312    1.0\n",
      "Name: label, Length: 583, dtype: float64)\n"
     ]
    }
   ],
   "source": [
    "X, y = df, label\n",
    "print (X,y)"
   ]
  },
  {
   "cell_type": "code",
   "execution_count": 501,
   "metadata": {},
   "outputs": [
    {
     "name": "stdout",
     "output_type": "stream",
     "text": [
      "1.0\n",
      "1.0\n",
      "1.0\n",
      "1.0000000000000002\n",
      "1.0\n",
      "1.0000000000000002\n",
      "1.0\n",
      "1.0\n",
      "1.0000000000000002\n",
      "0.9999999999999999\n"
     ]
    }
   ],
   "source": [
    "for col in df.columns:\n",
    "    print sorted(pd.Series(df[col]).unique())[-1]\n",
    "#     print np.isnan(df[col].any())\n",
    "#     print np.isfinite(df[col].all()) #and gets True"
   ]
  },
  {
   "cell_type": "code",
   "execution_count": 502,
   "metadata": {},
   "outputs": [],
   "source": [
    "def PCA_Compute(X,y, n):\n",
    "    pca = PCA(n_components= n, svd_solver='full')\n",
    "    pca.fit(X)\n",
    "    X = pca.transform(X)\n",
    "    print(pca.explained_variance_ratio_)\n",
    "    return X,y"
   ]
  },
  {
   "cell_type": "code",
   "execution_count": 503,
   "metadata": {},
   "outputs": [],
   "source": [
    "def Fscore_Compute(X,y, n = 5):\n",
    "    selector = SelectKBest(f_classif, k=n)\n",
    "    selector.fit(X,y)\n",
    "    X = selector.transform(X)\n",
    "    print (selector.scores_, X.shape)\n",
    "    return X,y"
   ]
  },
  {
   "cell_type": "code",
   "execution_count": 504,
   "metadata": {},
   "outputs": [],
   "source": [
    "def featureSelection(X,y,k, choice = 0):\n",
    "    if choice == 1:\n",
    "        return Fscore_Compute(X,y,k)\n",
    "    return PCA_Compute(X,y)"
   ]
  },
  {
   "cell_type": "code",
   "execution_count": 505,
   "metadata": {},
   "outputs": [
    {
     "name": "stdout",
     "output_type": "stream",
     "text": [
      "(array([11.1714293 ,  3.97336307, 29.60928154, 37.43959214, 20.55843531,\n",
      "       15.94121994, 13.72863496,  0.71293374, 15.53743097, 16.16743276]), (583, 10))\n"
     ]
    }
   ],
   "source": [
    "X,y = featureSelection(X,y,X.shape[1],1)"
   ]
  },
  {
   "cell_type": "code",
   "execution_count": 506,
   "metadata": {},
   "outputs": [],
   "source": [
    "def getQDA(X,y,k=10):\n",
    "    clf = QDA(priors=None, reg_param=0.0)\n",
    "    scores = cross_val_score(clf, X, y, cv=k)\n",
    "    return scores.mean()"
   ]
  },
  {
   "cell_type": "code",
   "execution_count": 507,
   "metadata": {},
   "outputs": [
    {
     "name": "stdout",
     "output_type": "stream",
     "text": [
      "0.559722948516821\n"
     ]
    }
   ],
   "source": [
    "print  (getQDA(X,y))"
   ]
  },
  {
   "cell_type": "code",
   "execution_count": 525,
   "metadata": {},
   "outputs": [],
   "source": [
    "def getLR(X,y,k=10):\n",
    "    regr = LogisticRegressionCV(class_weight='balanced',scoring='roc_auc',n_jobs=10, max_iter=10000, verbose=1,cv=10)\n",
    "    scores = cross_val_score(regr, X, y, cv=k)\n",
    "#     regr.score(X,y)\n",
    "    return scores.mean()\n"
   ]
  },
  {
   "cell_type": "code",
   "execution_count": 526,
   "metadata": {},
   "outputs": [
    {
     "name": "stderr",
     "output_type": "stream",
     "text": [
      "[Parallel(n_jobs=10)]: Done   2 out of  10 | elapsed:    0.1s remaining:    0.4s\n",
      "[Parallel(n_jobs=10)]: Done  10 out of  10 | elapsed:    0.3s finished\n",
      "[Parallel(n_jobs=10)]: Done   2 out of  10 | elapsed:    0.1s remaining:    0.5s\n",
      "[Parallel(n_jobs=10)]: Done  10 out of  10 | elapsed:    0.3s finished\n",
      "[Parallel(n_jobs=10)]: Done   2 out of  10 | elapsed:    0.2s remaining:    0.6s\n",
      "[Parallel(n_jobs=10)]: Done  10 out of  10 | elapsed:    0.4s finished\n",
      "[Parallel(n_jobs=10)]: Done   2 out of  10 | elapsed:    0.2s remaining:    0.6s\n",
      "[Parallel(n_jobs=10)]: Done  10 out of  10 | elapsed:    0.3s finished\n",
      "[Parallel(n_jobs=10)]: Done   2 out of  10 | elapsed:    0.1s remaining:    0.5s\n",
      "[Parallel(n_jobs=10)]: Done  10 out of  10 | elapsed:    0.3s finished\n",
      "[Parallel(n_jobs=10)]: Done   2 out of  10 | elapsed:    0.1s remaining:    0.5s\n",
      "[Parallel(n_jobs=10)]: Done  10 out of  10 | elapsed:    0.3s finished\n",
      "[Parallel(n_jobs=10)]: Done   2 out of  10 | elapsed:    0.1s remaining:    0.4s\n",
      "[Parallel(n_jobs=10)]: Done  10 out of  10 | elapsed:    0.3s finished\n",
      "[Parallel(n_jobs=10)]: Done   2 out of  10 | elapsed:    0.1s remaining:    0.5s\n",
      "[Parallel(n_jobs=10)]: Done  10 out of  10 | elapsed:    0.3s finished\n",
      "[Parallel(n_jobs=10)]: Done   2 out of  10 | elapsed:    0.1s remaining:    0.4s\n",
      "[Parallel(n_jobs=10)]: Done  10 out of  10 | elapsed:    0.3s finished\n",
      "[Parallel(n_jobs=10)]: Done   2 out of  10 | elapsed:    0.1s remaining:    0.6s\n"
     ]
    },
    {
     "name": "stdout",
     "output_type": "stream",
     "text": [
      "0.6402165554154233\n"
     ]
    },
    {
     "name": "stderr",
     "output_type": "stream",
     "text": [
      "[Parallel(n_jobs=10)]: Done  10 out of  10 | elapsed:    0.4s finished\n"
     ]
    }
   ],
   "source": [
    "# help(KFold)\n",
    "print (getLR(X,y))"
   ]
  },
  {
   "cell_type": "code",
   "execution_count": 480,
   "metadata": {},
   "outputs": [],
   "source": [
    "def getSVM(X,y,k=10):\n",
    "    svc = svm.SVC(C=1, kernel='linear')\n",
    "    scores = cross_val_score(svc, X, y, cv=k, scoring='precision_macro')\n",
    "    return scores.mean()"
   ]
  },
  {
   "cell_type": "code",
   "execution_count": 399,
   "metadata": {},
   "outputs": [
    {
     "name": "stdout",
     "output_type": "stream",
     "text": [
      "0.3165188834154352\n"
     ]
    }
   ],
   "source": [
    "print (getSVM(X,y))"
   ]
  },
  {
   "cell_type": "code",
   "execution_count": 303,
   "metadata": {},
   "outputs": [],
   "source": [
    "def getKNN(X,y,k_knn,k=10):\n",
    "    knn = KNeighborsClassifier(n_neighbors = k_knn, algorithm = 'ball_tree', leaf_size=500)\n",
    "    scores = cross_val_score(knn, X, y, cv=k, scoring='precision_macro')\n",
    "    return scores.mean()"
   ]
  },
  {
   "cell_type": "code",
   "execution_count": 304,
   "metadata": {},
   "outputs": [],
   "source": [
    "# kr = range(1,40)\n",
    "# ac = []\n",
    "# for k in kr:\n",
    "#     ac.append(getKNN(X,y,k))\n",
    "# import matplotlib.pyplot as plt\n",
    "# plt.figure()\n",
    "# plt.plot(kr,ac)\n",
    "# plt.show()"
   ]
  },
  {
   "cell_type": "code",
   "execution_count": 305,
   "metadata": {},
   "outputs": [
    {
     "data": {
      "text/plain": [
       "0.965000660708806"
      ]
     },
     "execution_count": 305,
     "metadata": {},
     "output_type": "execute_result"
    }
   ],
   "source": [
    "getKNN(X,y,7)"
   ]
  },
  {
   "cell_type": "code",
   "execution_count": 306,
   "metadata": {},
   "outputs": [],
   "source": [
    "def getNaivebayes(X,y,k=10):    \n",
    "    clf = GaussianNB()\n",
    "    clf.fit(X, y)\n",
    "    scores = cross_val_score(clf, X, y, cv=k)\n",
    "    return scores.mean()"
   ]
  },
  {
   "cell_type": "code",
   "execution_count": 307,
   "metadata": {},
   "outputs": [
    {
     "name": "stdout",
     "output_type": "stream",
     "text": [
      "0.9443043741298756\n"
     ]
    }
   ],
   "source": [
    "print (getNaivebayes(X,y))"
   ]
  },
  {
   "cell_type": "code",
   "execution_count": 320,
   "metadata": {},
   "outputs": [],
   "source": [
    "def getDecisionTreeinfogain(X,y,k=10):\n",
    "    clf = DecisionTreeClassifier(class_weight=None, criterion='entropy', random_state=100, splitter='best')\n",
    "    scores = cross_val_score(clf, X, y, cv=k)\n",
    "    return scores.mean()"
   ]
  },
  {
   "cell_type": "code",
   "execution_count": 321,
   "metadata": {},
   "outputs": [
    {
     "name": "stdout",
     "output_type": "stream",
     "text": [
      "0.9485478085906746\n"
     ]
    }
   ],
   "source": [
    "print(getDecisionTreeinfogain(X,y))"
   ]
  },
  {
   "cell_type": "code",
   "execution_count": 323,
   "metadata": {},
   "outputs": [],
   "source": [
    "def getDecisionTreegini(X,y,k=10):\n",
    "    #X_train, X_test, Y_train, Y_test = train_test_split(X, y, test_size=0.25, random_state=42)\n",
    "    clf = DecisionTreeClassifier(class_weight=None, criterion='gini',random_state=100, splitter='best')\n",
    "    scores = cross_val_score(clf, X, y, cv=5)\n",
    "    return scores.mean()"
   ]
  },
  {
   "cell_type": "code",
   "execution_count": 324,
   "metadata": {},
   "outputs": [
    {
     "name": "stdout",
     "output_type": "stream",
     "text": [
      "0.935753063202933\n"
     ]
    }
   ],
   "source": [
    "print (getDecisionTreegini(X,y))"
   ]
  },
  {
   "cell_type": "code",
   "execution_count": 327,
   "metadata": {},
   "outputs": [],
   "source": [
    "def getRandomForest(X,y, numtrees =10,k=10):\n",
    "    from sklearn.ensemble import RandomForestClassifier\n",
    "    clf = RandomForestClassifier(n_estimators=10)\n",
    "    scores = cross_val_score(clf, X, y, cv=10)\n",
    "    return scores.mean()"
   ]
  },
  {
   "cell_type": "code",
   "execution_count": 328,
   "metadata": {},
   "outputs": [
    {
     "name": "stdout",
     "output_type": "stream",
     "text": [
      "0.9599976671623948\n"
     ]
    }
   ],
   "source": [
    "print (getRandomForest(X,y))"
   ]
  },
  {
   "cell_type": "code",
   "execution_count": 329,
   "metadata": {},
   "outputs": [],
   "source": [
    "def getAdaBoost(X,y, estimators=100):\n",
    "    from sklearn.ensemble import AdaBoostClassifier\n",
    "    clf = AdaBoostClassifier(n_estimators=estimators)\n",
    "    scores = cross_val_score(clf, X, y, cv=5)\n",
    "    return scores.mean()"
   ]
  },
  {
   "cell_type": "code",
   "execution_count": 4,
   "metadata": {},
   "outputs": [],
   "source": [
    "from sklearn.neighbors import KNeighborsClassifier\n",
    "def getBaggingClassifier(X,y, poorclf=KNeighborsClassifier()):\n",
    "    from sklearn.ensemble import BaggingClassifier\n",
    "    bagging = BaggingClassifier(poorclf,max_samples=0.5, max_features=0.5)\n",
    "    scores = cross_val_score(bagging, X, y, cv=5)\n",
    "    return scores.mean()"
   ]
  },
  {
   "cell_type": "code",
   "execution_count": 330,
   "metadata": {},
   "outputs": [],
   "source": [
    "def HMV_Layer1():\n",
    "    clf1 = QDA(priors=None, reg_param=0.0)\n",
    "    clf2 = LogisticRegression(random_state=1)\n",
    "    clf3 = GaussianNB(random_state=1)\n",
    "    clf = VotingClassifier(estimators=[('QDA', clf1), ('LR', clf2), ('NB', clf3)], voting='hard') \n",
    "#     clf.fit(X_train, y_train)\n",
    "#     print\n",
    "    return clf\n",
    "    "
   ]
  },
  {
   "cell_type": "code",
   "execution_count": 331,
   "metadata": {},
   "outputs": [],
   "source": [
    "def HMV_Layer2(clf_prev, k):\n",
    "    clf1 = KNeighborsClassifier(n_neighbors = k, algorithm = 'ball_tree', leaf_size=500)\n",
    "    clf2 = svm.SVC(C=1, kernel='linear')\n",
    "    clf = VotingClassifier(estimators=[('KNN', clf1), ('SVM', clf2), ('LAYER1', clf_prev)], voting='hard') \n",
    "#     clf.fit(X_train, y_train)\n",
    "#     clf.predict(X_test)\n",
    "    return clf\n",
    "    "
   ]
  },
  {
   "cell_type": "code",
   "execution_count": 332,
   "metadata": {},
   "outputs": [],
   "source": [
    "def HMV_Layer3(clf_prev):\n",
    "    clf1 = DecisionTreeClassifier(class_weight=None, criterion='entropy', \n",
    "           random_state=100, splitter='best')\n",
    "    clf2 = DecisionTreeClassifier(class_weight=None, criterion='gini', \n",
    "           random_state=100, splitter='best')\n",
    "    clf = VotingClassifier(estimators=[('DTIG', clf1), ('DTGI', clf2), ('LAYER2', clf_prev)], voting='hard')\n",
    "#     clf.fit(X_train, y_train)\n",
    "    return clf"
   ]
  },
  {
   "cell_type": "code",
   "execution_count": 333,
   "metadata": {},
   "outputs": [],
   "source": [
    "def run_HMV(X,y, k_knn):\n",
    "    lay1 = HMV_Layer1()\n",
    "    lay2 = HMV_Layer2(lay1, k_knn)\n",
    "    lay3 = HMV_Layer3(lay2)\n",
    "    scores = cross_val_score(lay3, X, y, cv=10)\n",
    "    return scores.mean()\n",
    "    "
   ]
  },
  {
   "cell_type": "code",
   "execution_count": 226,
   "metadata": {},
   "outputs": [
    {
     "data": {
      "text/plain": [
       "0.9542827982387078"
      ]
     },
     "execution_count": 226,
     "metadata": {},
     "output_type": "execute_result"
    }
   ],
   "source": [
    "run_HMV(X,y,k_knn)"
   ]
  },
  {
   "cell_type": "code",
   "execution_count": 170,
   "metadata": {},
   "outputs": [],
   "source": []
  },
  {
   "cell_type": "code",
   "execution_count": null,
   "metadata": {},
   "outputs": [],
   "source": []
  }
 ],
 "metadata": {
  "kernelspec": {
   "display_name": "Python 2",
   "language": "python",
   "name": "python2"
  },
  "language_info": {
   "codemirror_mode": {
    "name": "ipython",
    "version": 2
   },
   "file_extension": ".py",
   "mimetype": "text/x-python",
   "name": "python",
   "nbconvert_exporter": "python",
   "pygments_lexer": "ipython2",
   "version": "2.7.14"
  }
 },
 "nbformat": 4,
 "nbformat_minor": 2
}
